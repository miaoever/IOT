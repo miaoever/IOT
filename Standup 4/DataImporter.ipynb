{
 "cells": [
  {
   "cell_type": "markdown",
   "metadata": {},
   "source": [
    "### Features\n",
    "\n",
    "We divide all the features into the following subgroups. Each of the subgroup has its unique source of data. For example. the dataset of \"user\" are derived from the user information and their order records in our system. For each of the subgroup, we have specific target that we want to explore the pattern of. In \"users\", we want to analyze the relationship between the profit of an order and the information of the user who makes the order. In \"Order\", we want to analyze the relationship between the profit of an order and the number of different inventories. In \"DUration\", we want to analyze the relationship between the time spent on transiting and the running data of the robots. In the last dataset, we combine several typical features from each of the dataset and put into a single dataset to see if we can dig out something interesting.\n",
    "\n",
    "#### User\n",
    "customer_id              \n",
    "name            \n",
    "age       \n",
    "sex       \n",
    "city         \n",
    "state            \n",
    "country          \n",
    "income             \n",
    "credit              \n",
    "education    \n",
    "occupation        \n",
    "orderCount       \n",
    "totalProfit   \n",
    "\n",
    "#### Order\n",
    "customer_id\n",
    "\n",
    "green,blue,black,yellow,red,white\n",
    "\n",
    "**amount** = green + blue + black + yellow + red + white\n",
    "\n",
    "#### Duration\n",
    "\n",
    "orderDate,takenDate,shipDate\n",
    "\n",
    "**transitDuration** = shipDate - takenDate\n",
    "\n",
    "**fufillDuration** = shipDate - orderDate\n",
    "\n",
    "shipVisitCount\n",
    "\n",
    "#### Cost, revenue, profit\n",
    "productSales,shipHandleCost\n",
    "\n",
    "**totalRevenue**=productSales + shipHandleCost\n",
    "\n",
    "productCOGS, *orderProcessCost(=10)*, shipVisitCost\n",
    "\n",
    "**totalCost** = productCOGS + *orderProcessCost* + shipVisitcCost\n",
    "\n",
    "**profit**= **totalRevenue** - **totalCost**"
   ]
  },
  {
   "cell_type": "code",
   "execution_count": 2,
   "metadata": {
    "ExecuteTime": {
     "end_time": "2018-07-08T00:58:20.475000Z",
     "start_time": "2018-07-08T00:58:20.332000Z"
    }
   },
   "outputs": [
    {
     "name": "stdout",
     "output_type": "stream",
     "text": [
      "dictionary keys: ['customer', 'city', 'name', 'orderCount', 'country', 'age', 'totalProfit', 'sex', 'credit', 'state', 'income', 'education', 'occupation']\n",
      "<class 'pandas.core.frame.DataFrame'>\n",
      "Int64Index: 150 entries, 0 to 149\n",
      "Data columns (total 34 columns):\n",
      "customer            150 non-null int64\n",
      "green               150 non-null int64\n",
      "blue                150 non-null int64\n",
      "black               150 non-null int64\n",
      "yellow              150 non-null int64\n",
      "red                 150 non-null int64\n",
      "white               150 non-null int64\n",
      "orderDate           150 non-null datetime64[ns]\n",
      "takenDate           150 non-null datetime64[ns]\n",
      "shipDate            150 non-null datetime64[ns]\n",
      "shipVisitCount      150 non-null int64\n",
      "productSales        150 non-null float64\n",
      "shipHandleCost      150 non-null float64\n",
      "totalRevenue        150 non-null float64\n",
      "productCOGS         150 non-null float64\n",
      "orderProcessCost    150 non-null float64\n",
      "shipVisitCost       150 non-null float64\n",
      "totalCost           150 non-null float64\n",
      "profit              150 non-null float64\n",
      "transitDuration     150 non-null float64\n",
      "fulfillDuration     150 non-null float64\n",
      "amount              150 non-null int64\n",
      "name                150 non-null int64\n",
      "age                 150 non-null int64\n",
      "sex                 150 non-null int64\n",
      "city                150 non-null int64\n",
      "state               150 non-null int64\n",
      "country             150 non-null int64\n",
      "income              150 non-null int64\n",
      "credit              150 non-null int64\n",
      "education           150 non-null int64\n",
      "occupation          150 non-null int64\n",
      "orderCount          150 non-null int64\n",
      "totalProfit         150 non-null int64\n",
      "dtypes: datetime64[ns](3), float64(10), int64(21)\n",
      "memory usage: 41.0 KB\n",
      "None\n"
     ]
    }
   ],
   "source": [
    "from datetime import datetime\n",
    "import pandas as pd\n",
    "import numpy as np\n",
    "import matplotlib.pyplot as plt\n",
    "import visuals as vs\n",
    "%config InlineBackend.figure_format = 'retina'\n",
    "%matplotlib inline\n",
    "\n",
    "plt.style.use('fivethirtyeight')\n",
    "\n",
    "df = pd.read_csv('../data/exp2/orderWithProfit.csv', header=0)\n",
    "# filtered_df = df[df['orderdate'].isnull()]\n",
    "df = df.dropna()\n",
    "df[\"orderDate\"] = df[\"orderDate\"].apply(lambda x: datetime.strptime(x, '%Y-%m-%d %H:%M:%S'))\n",
    "df[\"takenDate\"] = df[\"takenDate\"].apply(lambda x: datetime.strptime(x, '%Y-%m-%d %H:%M:%S'))\n",
    "df[\"shipDate\"] = df[\"shipDate\"].apply(lambda x: datetime.strptime(x, '%Y-%m-%d %H:%M:%S'))\n",
    "df[\"transitDuration\"] = (df[\"shipDate\"]-df[\"takenDate\"])/ np.timedelta64(1, 's')\n",
    "df[\"fulfillDuration\"] = (df[\"shipDate\"]-df[\"orderDate\"])/ np.timedelta64(1, 's')\n",
    "\n",
    "df[\"amount\"] = df[\"red\"]+df[\"blue\"]+df[\"yellow\"]+df[\"black\"]+df[\"white\"]\n",
    "\n",
    "dic = {}\n",
    "\n",
    "# Combine with customer info\n",
    "df_tmp = pd.read_csv('../data/exp2/orderWithCustomer.csv', header=0)\n",
    "df = pd.merge(df, df_tmp, how='inner', left_on=\"customer\", right_on=\"name\",suffixes=('_x', '_y'),)\n",
    "\n",
    "for key in [\"customer\", \"name\",\"age\", \"sex\", \"city\", \"state\", \"country\",\\\n",
    "                 \"income\", \"credit\",\"education\", \"occupation\",\"orderCount\",\"totalProfit\"]:\n",
    "    dic[key] = {}\n",
    "    ## Add Customer ID (Integer number)\n",
    "    id = 1\n",
    "    for _,name in df[[key]].drop_duplicates()[key].iteritems():\n",
    "        dic[key][name] = id # id starts from 0\n",
    "        id = id+1\n",
    "    df[key] = df[key].apply(lambda x: dic[key][x])\n",
    "\n",
    "    \n",
    "print \"dictionary keys:\",dic.keys()\n",
    "print df.info()"
   ]
  }
 ],
 "metadata": {
  "kernelspec": {
   "display_name": "Python 2",
   "language": "python",
   "name": "python2"
  },
  "language_info": {
   "codemirror_mode": {
    "name": "ipython",
    "version": 2
   },
   "file_extension": ".py",
   "mimetype": "text/x-python",
   "name": "python",
   "nbconvert_exporter": "python",
   "pygments_lexer": "ipython2",
   "version": "2.7.10"
  },
  "toc": {
   "base_numbering": 1,
   "nav_menu": {},
   "number_sections": true,
   "sideBar": true,
   "skip_h1_title": false,
   "title_cell": "Table of Contents",
   "title_sidebar": "Contents",
   "toc_cell": false,
   "toc_position": {},
   "toc_section_display": true,
   "toc_window_display": false
  },
  "varInspector": {
   "cols": {
    "lenName": 16,
    "lenType": 16,
    "lenVar": 40
   },
   "kernels_config": {
    "python": {
     "delete_cmd_postfix": "",
     "delete_cmd_prefix": "del ",
     "library": "var_list.py",
     "varRefreshCmd": "print(var_dic_list())"
    },
    "r": {
     "delete_cmd_postfix": ") ",
     "delete_cmd_prefix": "rm(",
     "library": "var_list.r",
     "varRefreshCmd": "cat(var_dic_list()) "
    }
   },
   "types_to_exclude": [
    "module",
    "function",
    "builtin_function_or_method",
    "instance",
    "_Feature"
   ],
   "window_display": false
  }
 },
 "nbformat": 4,
 "nbformat_minor": 2
}
