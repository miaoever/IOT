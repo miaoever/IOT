{
 "cells": [
  {
   "cell_type": "code",
   "execution_count": 1,
   "metadata": {
    "ExecuteTime": {
     "end_time": "2018-07-17T00:23:35.600000Z",
     "start_time": "2018-07-17T00:23:30.325000Z"
    }
   },
   "outputs": [],
   "source": [
    "from datetime import datetime\n",
    "import pandas as pd\n",
    "import numpy as np\n",
    "import matplotlib.pyplot as plt\n",
    "import visuals as vs\n",
    "%config InlineBackend.figure_format = 'retina'\n",
    "%matplotlib inline\n",
    "\n",
    "plt.style.use('fivethirtyeight')\n",
    "\n",
    "df1 = pd.read_csv('..\\\\data\\\\exp2\\\\new_ws_orderinfo_orders_app.csv', header=0)\n",
    "df2 = pd.read_csv('..\\\\data\\\\exp2\\\\new_ws_orderinfo_orders_server.csv', header=0)\n",
    "df2 = df2[[\"OrderID\", \"orderdate\", \"tokendate\",\"shipdate\"]]\n",
    "df3 = pd.read_csv('..\\\\data\\\\exp2\\\\ws_orderinfo_orderinround.csv', header=0)\n",
    "df = pd.merge(df1, df3, how='outer', left_on=\"BinID\", right_on=\"roundid\",suffixes=('_x', '_y'),)\n",
    "df = pd.merge(df, df2, how='outer', left_on=\"orderid\", right_on=\"OrderID\",suffixes=('_x', '_y'),)\n",
    "# filtered_df = df[df['orderdate'].isnull()]\n",
    "df = df.dropna()\n",
    "df[\"ItemID\"] = df[\"red\"]+df[\"blue\"]+df[\"yellow\"]+df[\"black\"]+df[\"white\"]\n",
    "df[\"OrderPickUpTime\"] = df[\"tokendate\"].apply(lambda x: datetime.strptime(x, '%m/%d/%Y %H:%M'))\n",
    "df[\"OrderDeliveredTime\"] = df[\"shipdate\"].apply(lambda x: datetime.strptime(x, '%m/%d/%Y %H:%M'))\n",
    "df = df[[\"OrderID\", \"ItemID\", \"RobotID\", \"BinID\", \"OrderPickUpTime\", \"OrderDeliveredTime\"]]\n",
    "\n",
    "df.to_csv('.\\out.csv')\n"
   ]
  }
 ],
 "metadata": {
  "kernelspec": {
   "display_name": "Python 2",
   "language": "python",
   "name": "python2"
  },
  "language_info": {
   "codemirror_mode": {
    "name": "ipython",
    "version": 2
   },
   "file_extension": ".py",
   "mimetype": "text/x-python",
   "name": "python",
   "nbconvert_exporter": "python",
   "pygments_lexer": "ipython2",
   "version": "2.7.10"
  },
  "toc": {
   "base_numbering": 1,
   "nav_menu": {},
   "number_sections": true,
   "sideBar": true,
   "skip_h1_title": false,
   "title_cell": "Table of Contents",
   "title_sidebar": "Contents",
   "toc_cell": false,
   "toc_position": {},
   "toc_section_display": true,
   "toc_window_display": false
  },
  "varInspector": {
   "cols": {
    "lenName": 16,
    "lenType": 16,
    "lenVar": 40
   },
   "kernels_config": {
    "python": {
     "delete_cmd_postfix": "",
     "delete_cmd_prefix": "del ",
     "library": "var_list.py",
     "varRefreshCmd": "print(var_dic_list())"
    },
    "r": {
     "delete_cmd_postfix": ") ",
     "delete_cmd_prefix": "rm(",
     "library": "var_list.r",
     "varRefreshCmd": "cat(var_dic_list()) "
    }
   },
   "types_to_exclude": [
    "module",
    "function",
    "builtin_function_or_method",
    "instance",
    "_Feature"
   ],
   "window_display": false
  }
 },
 "nbformat": 4,
 "nbformat_minor": 2
}
