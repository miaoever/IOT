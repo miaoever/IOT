{
 "cells": [
  {
   "cell_type": "code",
   "execution_count": 2,
   "metadata": {
    "ExecuteTime": {
     "end_time": "2018-07-31T22:46:57.385000Z",
     "start_time": "2018-07-31T22:46:56.568000Z"
    }
   },
   "outputs": [
    {
     "name": "stderr",
     "output_type": "stream",
     "text": [
      "c:\\python27\\lib\\site-packages\\pandas\\_libs\\__init__.py:4: RuntimeWarning: numpy.dtype size changed, may indicate binary incompatibility. Expected zd, got zd\n",
      "  from .tslib import iNaT, NaT, Timestamp, Timedelta, OutOfBoundsDatetime\n",
      "c:\\python27\\lib\\site-packages\\pandas\\__init__.py:26: RuntimeWarning: numpy.dtype size changed, may indicate binary incompatibility. Expected zd, got zd\n",
      "  from pandas._libs import (hashtable as _hashtable,\n",
      "c:\\python27\\lib\\site-packages\\pandas\\core\\dtypes\\common.py:6: RuntimeWarning: numpy.dtype size changed, may indicate binary incompatibility. Expected zd, got zd\n",
      "  from pandas._libs import algos, lib\n",
      "c:\\python27\\lib\\site-packages\\pandas\\core\\util\\hashing.py:7: RuntimeWarning: numpy.dtype size changed, may indicate binary incompatibility. Expected zd, got zd\n",
      "  from pandas._libs import hashing, tslib\n",
      "c:\\python27\\lib\\site-packages\\bottleneck\\__init__.py:10: RuntimeWarning: numpy.dtype size changed, may indicate binary incompatibility\n",
      "  from .reduce import (nansum, nanmean, nanstd, nanvar, nanmin, nanmax,\n",
      "c:\\python27\\lib\\site-packages\\bottleneck\\__init__.py:16: RuntimeWarning: numpy.dtype size changed, may indicate binary incompatibility\n",
      "  from .nonreduce import replace\n",
      "c:\\python27\\lib\\site-packages\\bottleneck\\__init__.py:20: RuntimeWarning: numpy.dtype size changed, may indicate binary incompatibility\n",
      "  from .nonreduce_axis import partsort, argpartsort, rankdata, nanrankdata\n",
      "c:\\python27\\lib\\site-packages\\bottleneck\\__init__.py:24: RuntimeWarning: numpy.dtype size changed, may indicate binary incompatibility\n",
      "  from .move import (move_sum, move_mean, move_std, move_min,\n",
      "c:\\python27\\lib\\site-packages\\pandas\\core\\indexes\\base.py:7: RuntimeWarning: numpy.dtype size changed, may indicate binary incompatibility. Expected zd, got zd\n",
      "  from pandas._libs import (lib, index as libindex, tslib as libts,\n",
      "c:\\python27\\lib\\site-packages\\pandas\\tseries\\offsets.py:21: RuntimeWarning: numpy.dtype size changed, may indicate binary incompatibility. Expected zd, got zd\n",
      "  import pandas._libs.tslibs.offsets as liboffsets\n",
      "c:\\python27\\lib\\site-packages\\pandas\\core\\ops.py:16: RuntimeWarning: numpy.dtype size changed, may indicate binary incompatibility. Expected zd, got zd\n",
      "  from pandas._libs import algos as libalgos, ops as libops\n",
      "c:\\python27\\lib\\site-packages\\pandas\\core\\indexes\\interval.py:32: RuntimeWarning: numpy.dtype size changed, may indicate binary incompatibility. Expected zd, got zd\n",
      "  from pandas._libs.interval import (\n",
      "c:\\python27\\lib\\site-packages\\pandas\\core\\internals.py:14: RuntimeWarning: numpy.dtype size changed, may indicate binary incompatibility. Expected zd, got zd\n",
      "  from pandas._libs import internals as libinternals\n",
      "c:\\python27\\lib\\site-packages\\pandas\\core\\sparse\\array.py:33: RuntimeWarning: numpy.dtype size changed, may indicate binary incompatibility. Expected zd, got zd\n",
      "  import pandas._libs.sparse as splib\n",
      "c:\\python27\\lib\\site-packages\\pandas\\core\\window.py:36: RuntimeWarning: numpy.dtype size changed, may indicate binary incompatibility. Expected zd, got zd\n",
      "  import pandas._libs.window as _window\n",
      "c:\\python27\\lib\\site-packages\\pandas\\core\\groupby\\groupby.py:68: RuntimeWarning: numpy.dtype size changed, may indicate binary incompatibility. Expected zd, got zd\n",
      "  from pandas._libs import (lib, reduction,\n",
      "c:\\python27\\lib\\site-packages\\pandas\\core\\reshape\\reshape.py:30: RuntimeWarning: numpy.dtype size changed, may indicate binary incompatibility. Expected zd, got zd\n",
      "  from pandas._libs import algos as _algos, reshape as _reshape\n",
      "c:\\python27\\lib\\site-packages\\pandas\\io\\parsers.py:45: RuntimeWarning: numpy.dtype size changed, may indicate binary incompatibility. Expected zd, got zd\n",
      "  import pandas._libs.parsers as parsers\n",
      "c:\\python27\\lib\\site-packages\\pandas\\io\\pytables.py:50: RuntimeWarning: numpy.dtype size changed, may indicate binary incompatibility. Expected zd, got zd\n",
      "  from pandas._libs import algos, lib, writers as libwriters\n"
     ]
    },
    {
     "name": "stdout",
     "output_type": "stream",
     "text": [
      "dictionary keys: ['customer', 'city', 'country', 'age', 'sex', 'credit', 'state', 'income', 'education', 'occupation']\n",
      "<class 'pandas.core.frame.DataFrame'>\n",
      "Int64Index: 150 entries, 0 to 149\n",
      "Data columns (total 21 columns):\n",
      "customer           150 non-null int64\n",
      "red                150 non-null int64\n",
      "blue               150 non-null int64\n",
      "green              150 non-null int64\n",
      "yellow             150 non-null int64\n",
      "black              150 non-null int64\n",
      "white              150 non-null int64\n",
      "pending            150 non-null int64\n",
      "shipped            150 non-null int64\n",
      "transitDuration    150 non-null float64\n",
      "fulfillDuration    150 non-null float64\n",
      "amount             150 non-null int64\n",
      "age                150 non-null int64\n",
      "sex                150 non-null int64\n",
      "city               150 non-null int64\n",
      "state              150 non-null int64\n",
      "country            150 non-null int64\n",
      "income             150 non-null int64\n",
      "credit             150 non-null int64\n",
      "education          150 non-null int64\n",
      "occupation         150 non-null int64\n",
      "dtypes: float64(2), int64(19)\n",
      "memory usage: 25.8 KB\n",
      "None\n"
     ]
    }
   ],
   "source": [
    "from datetime import datetime\n",
    "import pandas as pd\n",
    "import numpy as np\n",
    "import matplotlib.pyplot as plt\n",
    "import visuals as vs\n",
    "%config InlineBackend.figure_format = 'retina'\n",
    "%matplotlib inline\n",
    "\n",
    "plt.style.use('fivethirtyeight')\n",
    "\n",
    "df = pd.read_csv('../data/exp3/new/ws_orderinfo_orders_server.csv', header=0)\n",
    "# filtered_df = df[df['orderdate'].isnull()]\n",
    "df = df.dropna()\n",
    "df[\"orderdate\"] = df[\"orderdate\"].apply(lambda x: datetime.strptime(x, '%m/%d/%Y %H:%M:%S'))\n",
    "df[\"takendate\"] = df[\"takendate\"].apply(lambda x: datetime.strptime(x, '%m/%d/%Y %H:%M:%S'))\n",
    "df[\"shipdate\"] = df[\"shipdate\"].apply(lambda x: datetime.strptime(x, '%m/%d/%Y %H:%M:%S'))\n",
    "df[\"transitDuration\"] = (df[\"shipdate\"]-df[\"takendate\"])/ np.timedelta64(1, 's')\n",
    "df[\"fulfillDuration\"] = (df[\"shipdate\"]-df[\"orderdate\"])/ np.timedelta64(1, 's')\n",
    "\n",
    "df[\"amount\"] = df[\"red\"]+df[\"blue\"]+df[\"yellow\"]+df[\"black\"]+df[\"white\"]\n",
    "\n",
    "dic = {}\n",
    "\n",
    "# Combine with customer info\n",
    "df_tmp = pd.read_csv('..\\data\\exp3\\ws_orderinfo_demographic.csv', header=0)\n",
    "df = pd.merge(df, df_tmp, how='inner', left_on=\"customer\", right_on=\"name\")\n",
    "df = df.drop(columns=['name','orderdate(x)','orderdate','takendate','shipdate', 'id','entryid'])\n",
    "for key in [\"customer\",\"age\", \"sex\", \"city\", \"state\", \"country\",\\\n",
    "                 \"income\", \"credit\",\"education\", \"occupation\"]:\n",
    "    dic[key] = {}\n",
    "    ## Add Customer ID (Integer number)\n",
    "    id = 1\n",
    "    for _,name in df[[key]].drop_duplicates()[key].iteritems():\n",
    "        dic[key][name] = id # id starts from 0\n",
    "        id = id+1\n",
    "    df[key] = df[key].apply(lambda x: dic[key][x])\n",
    "\n",
    "    \n",
    "print \"dictionary keys:\",dic.keys()\n",
    "print df.info()"
   ]
  },
  {
   "cell_type": "code",
   "execution_count": null,
   "metadata": {
    "ExecuteTime": {
     "start_time": "2018-07-31T23:06:16.086Z"
    }
   },
   "outputs": [],
   "source": [
    "from pyspark.sql import SparkSession\n",
    "from pyspark.sql import SQLContext\n",
    "from pyspark import SparkContext, HiveContext\n",
    "from pyspark.ml.clustering import BisectingKMeans\n",
    "from pyspark.ml.linalg import Vectors\n",
    "from pyspark.ml.feature import VectorAssembler\n",
    "from pyspark.ml.feature import StandardScaler\n",
    "\n",
    "import numpy as np\n",
    "from numpy import array\n",
    "from math import sqrt\n",
    "\n",
    "sc = SparkContext.getOrCreate()\n",
    "sqlCtx = SQLContext(sc)\n",
    "\n",
    "df_spark = sqlCtx.createDataFrame(df)\n",
    "\n",
    "vecAssembler = VectorAssembler(inputCols=df_spark.columns, outputCol=\"features\")\n",
    "df_spark = vecAssembler.transform(df_spark)\n",
    "rdd = df_spark.rdd.map(lambda x: array(x[\"features\"]))\n",
    "\n",
    "# normalization\n",
    "scaler = StandardScaler(inputCol=\"features\", outputCol=\"scaledFeatures\",\n",
    "                        withStd=True, withMean=False)\n",
    "scalerModel = scaler.fit(df_spark)\n",
    "scaledData = scalerModel.transform(df_spark)\n",
    "scaledRDD = scaledData.rdd.map(lambda x: array(x[\"scaledFeatures\"]))\n",
    "\n",
    "cost = np.zeros(20)\n",
    "for k in range(2,20):\n",
    "    hca = BisectingKMeans(k = k, featuresCol = \"scaledFeatures\", minDivisibleClusterSize=1.0);\n",
    "    model = hca.fit(scaledData.sample(False,0.5, seed=42))\n",
    "    cost[k] = model.computeCost(scaledData) \n",
    "\n",
    "fig, ax = plt.subplots(1,1, figsize =(8,6))\n",
    "ax.plot(range(2,20),cost[2:20])\n",
    "ax.set_xlabel('k')\n",
    "ax.set_ylabel('cost')\n",
    "plt.show()"
   ]
  }
 ],
 "metadata": {
  "kernelspec": {
   "display_name": "Python 2",
   "language": "python",
   "name": "python2"
  },
  "language_info": {
   "codemirror_mode": {
    "name": "ipython",
    "version": 2
   },
   "file_extension": ".py",
   "mimetype": "text/x-python",
   "name": "python",
   "nbconvert_exporter": "python",
   "pygments_lexer": "ipython2",
   "version": "2.7.10"
  },
  "toc": {
   "base_numbering": 1,
   "nav_menu": {},
   "number_sections": true,
   "sideBar": true,
   "skip_h1_title": false,
   "title_cell": "Table of Contents",
   "title_sidebar": "Contents",
   "toc_cell": false,
   "toc_position": {},
   "toc_section_display": true,
   "toc_window_display": false
  },
  "varInspector": {
   "cols": {
    "lenName": 16,
    "lenType": 16,
    "lenVar": 40
   },
   "kernels_config": {
    "python": {
     "delete_cmd_postfix": "",
     "delete_cmd_prefix": "del ",
     "library": "var_list.py",
     "varRefreshCmd": "print(var_dic_list())"
    },
    "r": {
     "delete_cmd_postfix": ") ",
     "delete_cmd_prefix": "rm(",
     "library": "var_list.r",
     "varRefreshCmd": "cat(var_dic_list()) "
    }
   },
   "types_to_exclude": [
    "module",
    "function",
    "builtin_function_or_method",
    "instance",
    "_Feature"
   ],
   "window_display": false
  }
 },
 "nbformat": 4,
 "nbformat_minor": 2
}
