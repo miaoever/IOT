{
 "cells": [
  {
   "cell_type": "code",
   "execution_count": 38,
   "metadata": {
    "ExecuteTime": {
     "end_time": "2018-07-30T13:05:27.619000Z",
     "start_time": "2018-07-30T13:05:27.466000Z"
    }
   },
   "outputs": [
    {
     "name": "stdout",
     "output_type": "stream",
     "text": [
      "dictionary keys: ['customer', 'city', 'country', 'age', 'sex', 'credit', 'state', 'income', 'education', 'occupation']\n",
      "<class 'pandas.core.frame.DataFrame'>\n",
      "Int64Index: 150 entries, 0 to 149\n",
      "Data columns (total 21 columns):\n",
      "customer           150 non-null int64\n",
      "red                150 non-null int64\n",
      "blue               150 non-null int64\n",
      "green              150 non-null int64\n",
      "yellow             150 non-null int64\n",
      "black              150 non-null int64\n",
      "white              150 non-null int64\n",
      "pending            150 non-null int64\n",
      "shipped            150 non-null int64\n",
      "transitDuration    150 non-null float64\n",
      "fulfillDuration    150 non-null float64\n",
      "amount             150 non-null int64\n",
      "age                150 non-null int64\n",
      "sex                150 non-null int64\n",
      "city               150 non-null int64\n",
      "state              150 non-null int64\n",
      "country            150 non-null int64\n",
      "income             150 non-null int64\n",
      "credit             150 non-null int64\n",
      "education          150 non-null int64\n",
      "occupation         150 non-null int64\n",
      "dtypes: float64(2), int64(19)\n",
      "memory usage: 25.8 KB\n",
      "None\n"
     ]
    }
   ],
   "source": [
    "from datetime import datetime\n",
    "import pandas as pd\n",
    "import numpy as np\n",
    "import matplotlib.pyplot as plt\n",
    "import visuals as vs\n",
    "%config InlineBackend.figure_format = 'retina'\n",
    "%matplotlib inline\n",
    "\n",
    "plt.style.use('fivethirtyeight')\n",
    "\n",
    "df = pd.read_csv('../data/exp3/new/ws_orderinfo_orders_server.csv', header=0)\n",
    "# filtered_df = df[df['orderdate'].isnull()]\n",
    "df = df.dropna()\n",
    "df[\"orderdate\"] = df[\"orderdate\"].apply(lambda x: datetime.strptime(x, '%m/%d/%Y %H:%M:%S'))\n",
    "df[\"takendate\"] = df[\"takendate\"].apply(lambda x: datetime.strptime(x, '%m/%d/%Y %H:%M:%S'))\n",
    "df[\"shipdate\"] = df[\"shipdate\"].apply(lambda x: datetime.strptime(x, '%m/%d/%Y %H:%M:%S'))\n",
    "df[\"transitDuration\"] = (df[\"shipdate\"]-df[\"takendate\"])/ np.timedelta64(1, 's')\n",
    "df[\"fulfillDuration\"] = (df[\"shipdate\"]-df[\"orderdate\"])/ np.timedelta64(1, 's')\n",
    "\n",
    "df[\"amount\"] = df[\"red\"]+df[\"blue\"]+df[\"yellow\"]+df[\"black\"]+df[\"white\"]\n",
    "\n",
    "dic = {}\n",
    "\n",
    "# Combine with customer info\n",
    "df_tmp = pd.read_csv('..\\data\\exp3\\ws_orderinfo_demographic.csv', header=0)\n",
    "df = pd.merge(df, df_tmp, how='inner', left_on=\"customer\", right_on=\"name\")\n",
    "df = df.drop(columns=['name','orderdate','tokendate','takendate','shipdate', 'id','entryid'])\n",
    "for key in [\"customer\",\"age\", \"sex\", \"city\", \"state\", \"country\",\\\n",
    "                 \"income\", \"credit\",\"education\", \"occupation\"]:\n",
    "    dic[key] = {}\n",
    "    ## Add Customer ID (Integer number)\n",
    "    id = 1\n",
    "    for _,name in df[[key]].drop_duplicates()[key].iteritems():\n",
    "        dic[key][name] = id # id starts from 0\n",
    "        id = id+1\n",
    "    df[key] = df[key].apply(lambda x: dic[key][x])\n",
    "\n",
    "    \n",
    "print \"dictionary keys:\",dic.keys()\n",
    "print df.info()"
   ]
  },
  {
   "cell_type": "code",
   "execution_count": 39,
   "metadata": {
    "ExecuteTime": {
     "end_time": "2018-07-30T13:05:39.891000Z",
     "start_time": "2018-07-30T13:05:30.451000Z"
    },
    "scrolled": false
   },
   "outputs": [
    {
     "name": "stdout",
     "output_type": "stream",
     "text": [
      "Within Set Sum of Squared Error = 199180.153338\n"
     ]
    }
   ],
   "source": [
    "from pyspark.sql import SparkSession\n",
    "from pyspark.sql import SQLContext\n",
    "from pyspark import SparkContext, HiveContext\n",
    "from pyspark.mllib.clustering import KMeans\n",
    "from pyspark.ml.linalg import Vectors\n",
    "from pyspark.ml.feature import VectorAssembler\n",
    "import numpy as np\n",
    "from numpy import array\n",
    "from math import sqrt\n",
    "\n",
    "sc = SparkContext.getOrCreate()\n",
    "sqlCtx = SQLContext(sc)\n",
    "\n",
    "df_spark = sqlCtx.createDataFrame(df)\n",
    "\n",
    "vecAssembler = VectorAssembler(inputCols=df_spark.columns, outputCol=\"features\")\n",
    "df_spark = vecAssembler.transform(df_spark)\n",
    "rdd = df_spark.rdd.map(lambda x: array(x[\"features\"]))\n",
    "\n",
    "clusters = KMeans.train(\\\n",
    "                 rdd, 2, maxIterations=10, initializationMode=\"random\",\\\n",
    "                  seed=50, initializationSteps=5, epsilon=1e-4)\n",
    "\n",
    "# Evaluate clustering by computing Within Set Sum of Squared Errors\n",
    "def error(point):\n",
    "    center = clusters.centers[clusters.predict(point)]\n",
    "    return sqrt(sum([x**2 for x in (point - center)]))\n",
    "\n",
    "WSSSE = df_spark.rdd.map(lambda point: error(array(point[\"features\"]))).reduce(lambda x, y: x + y)\n",
    "print(\"Within Set Sum of Squared Error = \" + str(WSSSE))\n",
    "\n"
   ]
  },
  {
   "cell_type": "code",
   "execution_count": 20,
   "metadata": {
    "ExecuteTime": {
     "end_time": "2018-07-30T12:50:08.538000Z",
     "start_time": "2018-07-30T12:50:06.719000Z"
    }
   },
   "outputs": [
    {
     "data": {
      "text/plain": [
       "[array([ 1.0000e+00,  0.0000e+00,  5.0000e+00,  0.0000e+00,  7.0000e+00,\n",
       "         6.0000e+00,  0.0000e+00,  0.0000e+00,  1.0000e+00,  8.8000e+01,\n",
       "        -1.4293e+04,  1.8000e+01,  1.0000e+00,  1.0000e+00,  1.0000e+00,\n",
       "         1.0000e+00,  1.0000e+00,  1.0000e+00,  1.0000e+00,  1.0000e+00,\n",
       "         1.0000e+00]),\n",
       " array([ 1.000e+00,  8.000e+00,  6.000e+00,  4.000e+00,  7.000e+00,\n",
       "         7.000e+00,  5.000e+00,  0.000e+00,  1.000e+00,  2.620e+02,\n",
       "        -9.826e+03,  3.300e+01,  1.000e+00,  1.000e+00,  1.000e+00,\n",
       "         1.000e+00,  1.000e+00,  1.000e+00,  1.000e+00,  1.000e+00,\n",
       "         1.000e+00]),\n",
       " array([1.00000e+00, 0.00000e+00, 8.00000e+00, 0.00000e+00, 2.00000e+00,\n",
       "        6.00000e+00, 0.00000e+00, 0.00000e+00, 1.00000e+00, 1.47000e+02,\n",
       "        5.23587e+05, 1.60000e+01, 1.00000e+00, 1.00000e+00, 1.00000e+00,\n",
       "        1.00000e+00, 1.00000e+00, 1.00000e+00, 1.00000e+00, 1.00000e+00,\n",
       "        1.00000e+00]),\n",
       " array([1.00000e+00, 0.00000e+00, 0.00000e+00, 1.00000e+00, 2.00000e+00,\n",
       "        6.00000e+00, 0.00000e+00, 0.00000e+00, 1.00000e+00, 9.10000e+01,\n",
       "        5.25898e+05, 8.00000e+00, 1.00000e+00, 1.00000e+00, 1.00000e+00,\n",
       "        1.00000e+00, 1.00000e+00, 1.00000e+00, 1.00000e+00, 1.00000e+00,\n",
       "        1.00000e+00]),\n",
       " array([ 2.0000e+00,  7.0000e+00,  0.0000e+00,  7.0000e+00,  9.0000e+00,\n",
       "         3.0000e+00,  7.0000e+00,  0.0000e+00,  1.0000e+00,  2.0700e+02,\n",
       "        -1.4185e+04,  2.6000e+01,  2.0000e+00,  2.0000e+00,  2.0000e+00,\n",
       "         2.0000e+00,  1.0000e+00,  2.0000e+00,  2.0000e+00,  2.0000e+00,\n",
       "         2.0000e+00]),\n",
       " array([ 2.0000e+00,  1.0000e+00,  6.0000e+00,  9.0000e+00,  5.0000e+00,\n",
       "         2.0000e+00,  0.0000e+00,  0.0000e+00,  1.0000e+00,  1.8700e+02,\n",
       "        -1.3307e+04,  1.4000e+01,  2.0000e+00,  2.0000e+00,  2.0000e+00,\n",
       "         2.0000e+00,  1.0000e+00,  2.0000e+00,  2.0000e+00,  2.0000e+00,\n",
       "         2.0000e+00]),\n",
       " array([ 2.0000e+00,  5.0000e+00,  8.0000e+00,  8.0000e+00,  7.0000e+00,\n",
       "         5.0000e+00,  3.0000e+00,  0.0000e+00,  1.0000e+00,  2.0400e+02,\n",
       "        -1.1225e+04,  2.8000e+01,  2.0000e+00,  2.0000e+00,  2.0000e+00,\n",
       "         2.0000e+00,  1.0000e+00,  2.0000e+00,  2.0000e+00,  2.0000e+00,\n",
       "         2.0000e+00]),\n",
       " array([ 3.0000e+00,  0.0000e+00,  0.0000e+00,  0.0000e+00,  2.0000e+00,\n",
       "         8.0000e+00,  2.0000e+00,  0.0000e+00,  1.0000e+00,  9.1000e+01,\n",
       "        -1.4177e+04,  1.2000e+01,  3.0000e+00,  1.0000e+00,  3.0000e+00,\n",
       "         3.0000e+00,  1.0000e+00,  3.0000e+00,  3.0000e+00,  2.0000e+00,\n",
       "         3.0000e+00]),\n",
       " array([ 3.0000e+00,  0.0000e+00,  0.0000e+00,  3.0000e+00,  2.0000e+00,\n",
       "         3.0000e+00,  0.0000e+00,  0.0000e+00,  1.0000e+00,  1.2200e+02,\n",
       "        -1.1301e+04,  5.0000e+00,  3.0000e+00,  1.0000e+00,  3.0000e+00,\n",
       "         3.0000e+00,  1.0000e+00,  3.0000e+00,  3.0000e+00,  2.0000e+00,\n",
       "         3.0000e+00]),\n",
       " array([ 3.0000e+00,  0.0000e+00,  6.0000e+00,  0.0000e+00,  1.0000e+01,\n",
       "         3.0000e+00,  0.0000e+00,  0.0000e+00,  1.0000e+00,  1.6300e+02,\n",
       "        -1.0726e+04,  1.9000e+01,  3.0000e+00,  1.0000e+00,  3.0000e+00,\n",
       "         3.0000e+00,  1.0000e+00,  3.0000e+00,  3.0000e+00,  2.0000e+00,\n",
       "         3.0000e+00])]"
      ]
     },
     "execution_count": 20,
     "metadata": {},
     "output_type": "execute_result"
    }
   ],
   "source": [
    "rdd.take(10)"
   ]
  },
  {
   "cell_type": "code",
   "execution_count": null,
   "metadata": {},
   "outputs": [],
   "source": []
  }
 ],
 "metadata": {
  "kernelspec": {
   "display_name": "Python 2",
   "language": "python",
   "name": "python2"
  },
  "language_info": {
   "codemirror_mode": {
    "name": "ipython",
    "version": 2
   },
   "file_extension": ".py",
   "mimetype": "text/x-python",
   "name": "python",
   "nbconvert_exporter": "python",
   "pygments_lexer": "ipython2",
   "version": "2.7.10"
  },
  "toc": {
   "base_numbering": 1,
   "nav_menu": {},
   "number_sections": true,
   "sideBar": true,
   "skip_h1_title": false,
   "title_cell": "Table of Contents",
   "title_sidebar": "Contents",
   "toc_cell": false,
   "toc_position": {},
   "toc_section_display": true,
   "toc_window_display": false
  },
  "varInspector": {
   "cols": {
    "lenName": 16,
    "lenType": 16,
    "lenVar": 40
   },
   "kernels_config": {
    "python": {
     "delete_cmd_postfix": "",
     "delete_cmd_prefix": "del ",
     "library": "var_list.py",
     "varRefreshCmd": "print(var_dic_list())"
    },
    "r": {
     "delete_cmd_postfix": ") ",
     "delete_cmd_prefix": "rm(",
     "library": "var_list.r",
     "varRefreshCmd": "cat(var_dic_list()) "
    }
   },
   "types_to_exclude": [
    "module",
    "function",
    "builtin_function_or_method",
    "instance",
    "_Feature"
   ],
   "window_display": false
  }
 },
 "nbformat": 4,
 "nbformat_minor": 2
}
