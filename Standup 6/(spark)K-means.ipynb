{
 "cells": [
  {
   "cell_type": "code",
   "execution_count": null,
   "metadata": {
    "ExecuteTime": {
     "start_time": "2018-07-30T03:41:30.425Z"
    }
   },
   "outputs": [],
   "source": [
    "from datetime import datetime\n",
    "import pandas as pd\n",
    "import numpy as np\n",
    "import matplotlib.pyplot as plt\n",
    "import visuals as vs\n",
    "%config InlineBackend.figure_format = 'retina'\n",
    "%matplotlib inline\n",
    "\n",
    "plt.style.use('fivethirtyeight')\n",
    "\n",
    "df = pd.read_csv('../data/exp3/new/ws_orderinfo_orders_server.csv', header=0)\n",
    "# filtered_df = df[df['orderdate'].isnull()]\n",
    "df = df.dropna()\n",
    "df[\"orderdate\"] = df[\"orderdate\"].apply(lambda x: datetime.strptime(x, '%Y-%m-%d %H:%M:%S'))\n",
    "df[\"tokendate\"] = df[\"tokendate\"].apply(lambda x: datetime.strptime(x, '%Y-%m-%d %H:%M:%S'))\n",
    "df[\"shipdate\"] = df[\"shipdate\"].apply(lambda x: datetime.strptime(x, '%Y-%m-%d %H:%M:%S'))\n",
    "df[\"transitDuration\"] = (df[\"shipdate\"]-df[\"tokendate\"])/ np.timedelta64(1, 's')\n",
    "df[\"fulfillDuration\"] = (df[\"shipdate\"]-df[\"orderdate\"])/ np.timedelta64(1, 's')\n",
    "\n",
    "df[\"amount\"] = df[\"red\"]+df[\"blue\"]+df[\"yellow\"]+df[\"black\"]+df[\"white\"]"
   ]
  },
  {
   "cell_type": "code",
   "execution_count": 23,
   "metadata": {
    "ExecuteTime": {
     "end_time": "2018-07-30T03:29:20.769000Z",
     "start_time": "2018-07-30T03:29:20.715000Z"
    }
   },
   "outputs": [
    {
     "name": "stdout",
     "output_type": "stream",
     "text": [
      "dictionary keys: ['customer', 'city', 'country', 'age', 'sex', 'credit', 'state', 'income', 'education', 'occupation']\n",
      "<class 'pandas.core.frame.DataFrame'>\n",
      "Int64Index: 150 entries, 0 to 149\n",
      "Data columns (total 27 columns):\n",
      "id                 150 non-null int64\n",
      "customer           150 non-null int64\n",
      "red                150 non-null int64\n",
      "blue               150 non-null int64\n",
      "green              150 non-null int64\n",
      "yellow             150 non-null int64\n",
      "black              150 non-null int64\n",
      "white              150 non-null int64\n",
      "pending            150 non-null int64\n",
      "orderdate          150 non-null datetime64[ns]\n",
      "tokendate          150 non-null datetime64[ns]\n",
      "shipdate           150 non-null datetime64[ns]\n",
      "shipped            150 non-null int64\n",
      "transitDuration    150 non-null float64\n",
      "fulfillDuration    150 non-null float64\n",
      "amount             150 non-null int64\n",
      "name               150 non-null object\n",
      "age                150 non-null int64\n",
      "sex                150 non-null int64\n",
      "city               150 non-null int64\n",
      "state              150 non-null int64\n",
      "country            150 non-null int64\n",
      "income             150 non-null int64\n",
      "credit             150 non-null int64\n",
      "education          150 non-null int64\n",
      "occupation         150 non-null int64\n",
      "entryid            150 non-null int64\n",
      "dtypes: datetime64[ns](3), float64(2), int64(21), object(1)\n",
      "memory usage: 32.2+ KB\n",
      "None\n"
     ]
    }
   ],
   "source": [
    "dic = {}\n",
    "\n",
    "# Combine with customer info\n",
    "df_tmp = pd.read_csv('..\\data\\exp3\\ws_orderinfo_demographic.csv', header=0)\n",
    "df = pd.merge(df, df_tmp, how='inner', left_on=\"customer\", right_on=\"name\")\n",
    "\n",
    "for key in [\"customer\",\"age\", \"sex\", \"city\", \"state\", \"country\",\\\n",
    "                 \"income\", \"credit\",\"education\", \"occupation\"]:\n",
    "    dic[key] = {}\n",
    "    ## Add Customer ID (Integer number)\n",
    "    id = 1\n",
    "    for _,name in df[[key]].drop_duplicates()[key].iteritems():\n",
    "        dic[key][name] = id # id starts from 0\n",
    "        id = id+1\n",
    "    df[key] = df[key].apply(lambda x: dic[key][x])\n",
    "\n",
    "    \n",
    "print \"dictionary keys:\",dic.keys()\n",
    "print df.info()"
   ]
  },
  {
   "cell_type": "code",
   "execution_count": 1,
   "metadata": {
    "ExecuteTime": {
     "end_time": "2018-07-30T03:40:25.924000Z",
     "start_time": "2018-07-30T03:40:19.926000Z"
    }
   },
   "outputs": [
    {
     "ename": "NameError",
     "evalue": "name 'df' is not defined",
     "output_type": "error",
     "traceback": [
      "\u001b[1;31m----------------------------------------------------------------------\u001b[0m",
      "\u001b[1;31mNameError\u001b[0m                            Traceback (most recent call last)",
      "\u001b[1;32m<ipython-input-1-b4fe0d384550>\u001b[0m in \u001b[0;36m<module>\u001b[1;34m()\u001b[0m\n\u001b[0;32m      8\u001b[0m \u001b[0msqlCtx\u001b[0m \u001b[1;33m=\u001b[0m \u001b[0mSQLContext\u001b[0m\u001b[1;33m(\u001b[0m\u001b[0msc\u001b[0m\u001b[1;33m)\u001b[0m\u001b[1;33m\u001b[0m\u001b[0m\n\u001b[0;32m      9\u001b[0m \u001b[1;33m\u001b[0m\u001b[0m\n\u001b[1;32m---> 10\u001b[1;33m \u001b[0mdf_spark\u001b[0m \u001b[1;33m=\u001b[0m \u001b[0msqlCtx\u001b[0m\u001b[1;33m.\u001b[0m\u001b[0mcreateDataFrame\u001b[0m\u001b[1;33m(\u001b[0m\u001b[0mdf\u001b[0m\u001b[1;33m)\u001b[0m\u001b[1;33m\u001b[0m\u001b[0m\n\u001b[0m\u001b[0;32m     11\u001b[0m \u001b[0mrdd\u001b[0m \u001b[1;33m=\u001b[0m \u001b[0mdf_spark\u001b[0m\u001b[1;33m.\u001b[0m\u001b[0mrdd\u001b[0m\u001b[1;33m.\u001b[0m\u001b[0mmap\u001b[0m\u001b[1;33m(\u001b[0m\u001b[1;32mlambda\u001b[0m \u001b[0mline\u001b[0m\u001b[1;33m:\u001b[0m \u001b[1;33m(\u001b[0m\u001b[0mlist\u001b[0m\u001b[1;33m)\u001b[0m\u001b[1;33m)\u001b[0m\u001b[1;33m\u001b[0m\u001b[0m\n\u001b[0;32m     12\u001b[0m \u001b[1;32mprint\u001b[0m \u001b[0mrdd\u001b[0m\u001b[1;33m\u001b[0m\u001b[0m\n",
      "\u001b[1;31mNameError\u001b[0m: name 'df' is not defined"
     ]
    }
   ],
   "source": [
    "from pyspark.sql import SparkSession\n",
    "from pyspark.sql import SQLContext\n",
    "\n",
    "from pyspark import SparkContext, HiveContext\n",
    "from pyspark.mllib.clustering import KMeans\n",
    "\n",
    "sc = SparkContext.getOrCreate()\n",
    "sqlCtx = SQLContext(sc)\n",
    "\n",
    "df_spark = sqlCtx.createDataFrame(df)\n",
    "rdd = df_spark.rdd.map(lambda line: (list))\n",
    "print rdd\n",
    "model = KMeans.train(\\\n",
    "                 rdd, 2, maxIterations=10, initializationMode=\"random\",\\\n",
    "                  seed=50, initializationSteps=5, epsilon=1e-4)\n",
    "\n",
    "print model.clusterCenters()"
   ]
  }
 ],
 "metadata": {
  "kernelspec": {
   "display_name": "Python 2",
   "language": "python",
   "name": "python2"
  },
  "toc": {
   "base_numbering": 1,
   "nav_menu": {},
   "number_sections": true,
   "sideBar": true,
   "skip_h1_title": false,
   "title_cell": "Table of Contents",
   "title_sidebar": "Contents",
   "toc_cell": false,
   "toc_position": {},
   "toc_section_display": true,
   "toc_window_display": false
  },
  "varInspector": {
   "cols": {
    "lenName": 16,
    "lenType": 16,
    "lenVar": 40
   },
   "kernels_config": {
    "python": {
     "delete_cmd_postfix": "",
     "delete_cmd_prefix": "del ",
     "library": "var_list.py",
     "varRefreshCmd": "print(var_dic_list())"
    },
    "r": {
     "delete_cmd_postfix": ") ",
     "delete_cmd_prefix": "rm(",
     "library": "var_list.r",
     "varRefreshCmd": "cat(var_dic_list()) "
    }
   },
   "types_to_exclude": [
    "module",
    "function",
    "builtin_function_or_method",
    "instance",
    "_Feature"
   ],
   "window_display": false
  }
 },
 "nbformat": 4,
 "nbformat_minor": 2
}
