{
 "cells": [
  {
   "cell_type": "code",
   "execution_count": 1,
   "metadata": {},
   "outputs": [],
   "source": [
    "from pyspark.sql import SparkSession, Row\n",
    "from pyspark.ml.linalg import Vectors\n",
    "from datetime import datetime\n",
    "\n",
    "sc = SparkSession.builder.getOrCreate()"
   ]
  },
  {
   "cell_type": "code",
   "execution_count": 2,
   "metadata": {},
   "outputs": [],
   "source": [
    "# Read the data from the CSV file and return a spark dataframe\n",
    "df = sc.read.csv(\"../data/exp3/new/ws_orderinfo_orders_server.csv\", header=True, inferSchema=True)\n",
    "# Drop the incomplete order\n",
    "df = df.dropna()"
   ]
  },
  {
   "cell_type": "code",
   "execution_count": 3,
   "metadata": {},
   "outputs": [
    {
     "data": {
      "text/plain": [
       "[Row(amount=18, fulfillDuration=107.0, transitDuration=88.0),\n",
       " Row(amount=26, fulfillDuration=215.0, transitDuration=207.0),\n",
       " Row(amount=12, fulfillDuration=223.0, transitDuration=91.0),\n",
       " Row(amount=13, fulfillDuration=274.0, transitDuration=153.0),\n",
       " Row(amount=24, fulfillDuration=348.0, transitDuration=194.0)]"
      ]
     },
     "execution_count": 3,
     "metadata": {},
     "output_type": "execute_result"
    }
   ],
   "source": [
    "def dateformat(s):\n",
    "    return datetime.strptime(s, '%m/%d/%Y %H:%M:%S')\n",
    "\n",
    "def timedelta(x, y):\n",
    "    return (dateformat(x) - dateformat(y)).total_seconds()\n",
    "\n",
    "# Preprocess the columns to get the time interval between shipping and receiving\n",
    "data = df.select('shipdate', 'takendate', 'orderdate', 'red', 'blue', 'yellow', 'black', 'white').rdd.map(\n",
    "    lambda x: Row(transitDuration=timedelta(x.shipdate, x.takendate),\n",
    "                  fulfillDuration=timedelta(x.shipdate, x.orderdate),\n",
    "                  amount=(x.red + x.blue + x.yellow + x.black + x.white))\n",
    ")\n",
    "data.take(5)"
   ]
  },
  {
   "cell_type": "code",
   "execution_count": 4,
   "metadata": {},
   "outputs": [
    {
     "data": {
      "text/plain": [
       "[Row(features=DenseVector([18.0]), label=88.0),\n",
       " Row(features=DenseVector([26.0]), label=207.0),\n",
       " Row(features=DenseVector([12.0]), label=91.0),\n",
       " Row(features=DenseVector([13.0]), label=153.0),\n",
       " Row(features=DenseVector([24.0]), label=194.0)]"
      ]
     },
     "execution_count": 4,
     "metadata": {},
     "output_type": "execute_result"
    }
   ],
   "source": [
    "# Convert the data format to ['features', 'label'] for training\n",
    "train = data.map(lambda x: (Vectors.dense([x.amount]), x.transitDuration)).toDF([\"features\", \"label\"])\n",
    "train.take(5)"
   ]
  },
  {
   "cell_type": "code",
   "execution_count": 5,
   "metadata": {},
   "outputs": [
    {
     "name": "stdout",
     "output_type": "stream",
     "text": [
      "Coefficients: [3.533245372520663]\n",
      "Intercept: 109.665775049\n",
      "numIterations: 3\n",
      "objectiveHistory: [0.5, 0.4536182490790944, 0.3762147175565874]\n",
      "RMSE: 45.666405\n",
      "r2: 0.252371\n"
     ]
    }
   ],
   "source": [
    "from pyspark.ml.regression import LinearRegression\n",
    "\n",
    "lr = LinearRegression(maxIter=10, regParam=0.3, elasticNetParam=0.8)\n",
    "# Fit the model\n",
    "lrModel = lr.fit(train)\n",
    "\n",
    "# Print the coefficients and intercept for linear regression\n",
    "print(\"Coefficients: %s\" % str(lrModel.coefficients))\n",
    "print(\"Intercept: %s\" % str(lrModel.intercept))\n",
    "\n",
    "# Summarize the model over the training set and print out some metrics\n",
    "trainingSummary = lrModel.summary\n",
    "print(\"numIterations: %d\" % trainingSummary.totalIterations)\n",
    "print(\"objectiveHistory: %s\" % str(trainingSummary.objectiveHistory))\n",
    "# trainingSummary.residuals.show()\n",
    "print(\"RMSE: %f\" % trainingSummary.rootMeanSquaredError)\n",
    "print(\"r2: %f\" % trainingSummary.r2)"
   ]
  },
  {
   "cell_type": "code",
   "execution_count": 6,
   "metadata": {},
   "outputs": [],
   "source": [
    "X = train.rdd.map(lambda x: x.features[0]).collect()\n",
    "y = train.rdd.map(lambda x: x.label).collect()\n",
    "\n",
    "p = lrModel.transform(train).select('prediction').rdd.flatMap(list).collect()"
   ]
  },
  {
   "cell_type": "code",
   "execution_count": 7,
   "metadata": {},
   "outputs": [
    {
     "data": {
      "image/png": "[encoded data removed]",
      "text/plain": [
       "<Figure size 432x288 with 1 Axes>"
      ]
     },
     "metadata": {},
     "output_type": "display_data"
    }
   ],
   "source": [
    "%matplotlib inline\n",
    "import matplotlib.pyplot as plt\n",
    "\n",
    "plt.xlabel('Amount of items in the order')\n",
    "plt.ylabel('Time spent for shipping the order')\n",
    "plt.scatter(X, y, c='lightblue')\n",
    "plt.plot(X, p, color='red', linewidth=2)\n",
    "plt.tight_layout()\n",
    "plt.show()"
   ]
  },
  {
   "cell_type": "code",
   "execution_count": null,
   "metadata": {},
   "outputs": [],
   "source": []
  }
 ],
 "metadata": {
  "kernelspec": {
   "display_name": "Python 2",
   "language": "python",
   "name": "python2"
  },
  "language_info": {
   "codemirror_mode": {
    "name": "ipython",
    "version": 2
   },
   "file_extension": ".py",
   "mimetype": "text/x-python",
   "name": "python",
   "nbconvert_exporter": "python",
   "pygments_lexer": "ipython2",
   "version": "2.7.10"
  }
 },
 "nbformat": 4,
 "nbformat_minor": 2
}
