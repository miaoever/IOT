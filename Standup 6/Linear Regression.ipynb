{
 "cells": [
  {
   "cell_type": "code",
   "execution_count": 1,
   "metadata": {},
   "outputs": [],
   "source": [
    "from pyspark.sql import SparkSession, Row\n",
    "from pyspark.ml.linalg import Vectors\n",
    "from datetime import datetime\n",
    "\n",
    "sc = SparkSession.builder.getOrCreate()"
   ]
  },
  {
   "cell_type": "code",
   "execution_count": 2,
   "metadata": {},
   "outputs": [
    {
     "name": "stdout",
     "output_type": "stream",
     "text": [
      "order data: DataFrame[id: int, customer: string, red: int, blue: int, green: int, yellow: int, black: int, white: int, pending: int, orderdate: timestamp, tokendate: timestamp, shipdate: timestamp, shipped: int] \n",
      "\n",
      "round data: DataFrame[entryid: int, roundid: int, orderid: int]\n"
     ]
    }
   ],
   "source": [
    "# Read the data from the CSV file and return a spark dataframe\n",
    "df = sc.read.csv(\"../data/exp3/new/ws_orderinfo_orders_server.csv\", header=True, inferSchema=True)\n",
    "# Drop the incomplete order\n",
    "df = df.dropna()\n",
    "print 'order data:', df, '\\n'\n",
    "\n",
    "# Read the order round data\n",
    "round_df = sc.read.csv(\"../data/exp3/new/ws_orderinfo_orderinround.csv\", header=True, inferSchema=True)\n",
    "print 'round data:', round_df"
   ]
  },
  {
   "cell_type": "markdown",
   "metadata": {},
   "source": [
    "## 1. Order amount with transition time"
   ]
  },
  {
   "cell_type": "code",
   "execution_count": 3,
   "metadata": {},
   "outputs": [
    {
     "data": {
      "text/plain": [
       "[Row(amount=18, fulfillDuration=107.0, transitDuration=88.0),\n",
       " Row(amount=33, fulfillDuration=215.0, transitDuration=207.0),\n",
       " Row(amount=12, fulfillDuration=223.0, transitDuration=91.0),\n",
       " Row(amount=22, fulfillDuration=274.0, transitDuration=153.0),\n",
       " Row(amount=30, fulfillDuration=348.0, transitDuration=194.0)]"
      ]
     },
     "execution_count": 3,
     "metadata": {},
     "output_type": "execute_result"
    }
   ],
   "source": [
    "def dateformat(s):\n",
    "    return datetime.strptime(s, '%Y-%m-%d %H:%M:%S')\n",
    "\n",
    "def timedelta(x, y):\n",
    "#     return (dateformat(x) - dateformat(y)).total_seconds()\n",
    "    return (x - y).total_seconds()\n",
    "\n",
    "# Preprocess the columns to get the time interval between shipping and receiving\n",
    "data = df.select('shipdate', 'tokendate', 'orderdate', 'red', 'blue', 'green', 'yellow', 'black', 'white').rdd.map(\n",
    "    lambda x: Row(transitDuration=timedelta(x.shipdate, x.tokendate),\n",
    "                  fulfillDuration=timedelta(x.shipdate, x.orderdate),\n",
    "                  amount=(x.red + x.blue + x.green + x.yellow + x.black + x.white))\n",
    ")\n",
    "data.take(5)"
   ]
  },
  {
   "cell_type": "code",
   "execution_count": 4,
   "metadata": {
    "scrolled": true
   },
   "outputs": [
    {
     "data": {
      "text/plain": [
       "[Row(features=DenseVector([18.0]), label=88.0),\n",
       " Row(features=DenseVector([33.0]), label=207.0),\n",
       " Row(features=DenseVector([12.0]), label=91.0),\n",
       " Row(features=DenseVector([22.0]), label=153.0),\n",
       " Row(features=DenseVector([30.0]), label=194.0)]"
      ]
     },
     "execution_count": 4,
     "metadata": {},
     "output_type": "execute_result"
    }
   ],
   "source": [
    "# Convert the data format to ['features', 'label'] for training\n",
    "train = data.map(lambda x: (Vectors.dense([x.amount]), x.transitDuration)).toDF([\"features\", \"label\"])\n",
    "train.take(5)"
   ]
  },
  {
   "cell_type": "markdown",
   "metadata": {},
   "source": [
    "#### Result"
   ]
  },
  {
   "cell_type": "code",
   "execution_count": 5,
   "metadata": {},
   "outputs": [
    {
     "name": "stdout",
     "output_type": "stream",
     "text": [
      "Coefficients: [3.1261083367618636]\n",
      "Intercept: 106.690332585\n",
      "numIterations: 3\n",
      "objectiveHistory: [0.5, 0.4492707365879532, 0.354728184008306]\n",
      "RMSE: 44.321169\n",
      "r2: 0.295769\n"
     ]
    }
   ],
   "source": [
    "from pyspark.ml.regression import LinearRegression\n",
    "\n",
    "lr = LinearRegression(maxIter=10, regParam=0.3, elasticNetParam=0.8)\n",
    "# Fit the model\n",
    "lrModel = lr.fit(train)\n",
    "\n",
    "# Print the coefficients and intercept for linear regression\n",
    "print(\"Coefficients: %s\" % str(lrModel.coefficients))\n",
    "print(\"Intercept: %s\" % str(lrModel.intercept))\n",
    "\n",
    "# Summarize the model over the training set and print out some metrics\n",
    "trainingSummary = lrModel.summary\n",
    "print(\"numIterations: %d\" % trainingSummary.totalIterations)\n",
    "print(\"objectiveHistory: %s\" % str(trainingSummary.objectiveHistory))\n",
    "# trainingSummary.residuals.show()\n",
    "print(\"RMSE: %f\" % trainingSummary.rootMeanSquaredError)\n",
    "print(\"r2: %f\" % trainingSummary.r2)"
   ]
  },
  {
   "cell_type": "code",
   "execution_count": 6,
   "metadata": {},
   "outputs": [],
   "source": [
    "X = train.rdd.map(lambda x: x.features[0]).collect()\n",
    "y = train.rdd.map(lambda x: x.label).collect()\n",
    "\n",
    "p = lrModel.transform(train).select('prediction').rdd.flatMap(list).collect()"
   ]
  },
  {
   "cell_type": "code",
   "execution_count": 7,
   "metadata": {},
   "outputs": [
    {
     "data": {
      "image/png": "[encoded data removed]",
      "text/plain": [
       "<Figure size 432x288 with 1 Axes>"
      ]
     },
     "metadata": {},
     "output_type": "display_data"
    }
   ],
   "source": [
    "%matplotlib inline\n",
    "import matplotlib.pyplot as plt\n",
    "\n",
    "plt.xlabel('Amount of items in the order')\n",
    "plt.ylabel('Time spent for shipping the order')\n",
    "plt.scatter(X, y, c='lightblue')\n",
    "plt.plot(X, p, color='red', linewidth=2)\n",
    "plt.tight_layout()\n",
    "plt.show()"
   ]
  },
  {
   "cell_type": "markdown",
   "metadata": {},
   "source": [
    "## 2. Order features with Profit"
   ]
  },
  {
   "cell_type": "code",
   "execution_count": 8,
   "metadata": {},
   "outputs": [
    {
     "data": {
      "text/plain": [
       "[Row(id=1, red=0, blue=5, green=0, yellow=7, black=6, white=0, Total=18),\n",
       " Row(id=2, red=7, blue=0, green=7, yellow=9, black=3, white=7, Total=33),\n",
       " Row(id=3, red=0, blue=0, green=0, yellow=2, black=8, white=2, Total=12),\n",
       " Row(id=4, red=1, blue=4, green=9, yellow=7, black=1, white=0, Total=22),\n",
       " Row(id=5, red=9, blue=4, green=6, yellow=0, black=6, white=5, Total=30)]"
      ]
     },
     "execution_count": 8,
     "metadata": {},
     "output_type": "execute_result"
    }
   ],
   "source": [
    "# Get the order features (quantities for each item class)\n",
    "order_quant_data = df.select('id', 'red', 'blue', 'green', 'yellow', 'black', 'white')\n",
    "order_quant_data = order_quant_data.withColumn('Total', (\n",
    "    order_quant_data.red + order_quant_data.blue + order_quant_data.green +\n",
    "    order_quant_data.yellow + order_quant_data.black + order_quant_data.white\n",
    "))\n",
    "order_quant_data.take(5)"
   ]
  },
  {
   "cell_type": "code",
   "execution_count": 9,
   "metadata": {},
   "outputs": [
    {
     "data": {
      "text/plain": [
       "[Row(orderid=1, count(orderid)=1),\n",
       " Row(orderid=2, count(orderid)=3),\n",
       " Row(orderid=3, count(orderid)=1),\n",
       " Row(orderid=4, count(orderid)=2),\n",
       " Row(orderid=5, count(orderid)=2)]"
      ]
     },
     "execution_count": 9,
     "metadata": {},
     "output_type": "execute_result"
    }
   ],
   "source": [
    "# Preprocess the round data to get the rounds for each order\n",
    "round_data = round_df.groupby('orderid').agg({'orderid': 'count'}).sort('orderid')\n",
    "round_data.take(5)"
   ]
  },
  {
   "cell_type": "code",
   "execution_count": 10,
   "metadata": {},
   "outputs": [
    {
     "name": "stdout",
     "output_type": "stream",
     "text": [
      "Record num: 148\n"
     ]
    },
    {
     "data": {
      "text/plain": [
       "[Row(id=1, red=0, blue=5, green=0, yellow=7, black=6, white=0, Total=18, orderid=1, count(orderid)=1),\n",
       " Row(id=2, red=7, blue=0, green=7, yellow=9, black=3, white=7, Total=33, orderid=2, count(orderid)=3),\n",
       " Row(id=3, red=0, blue=0, green=0, yellow=2, black=8, white=2, Total=12, orderid=3, count(orderid)=1),\n",
       " Row(id=4, red=1, blue=4, green=9, yellow=7, black=1, white=0, Total=22, orderid=4, count(orderid)=2),\n",
       " Row(id=5, red=9, blue=4, green=6, yellow=0, black=6, white=5, Total=30, orderid=5, count(orderid)=2)]"
      ]
     },
     "execution_count": 10,
     "metadata": {},
     "output_type": "execute_result"
    }
   ],
   "source": [
    "# Join the order data with the round data\n",
    "order_data = order_quant_data.join(round_data, order_quant_data.id == round_data.orderid)\n",
    "print 'Record num:', order_data.count()\n",
    "order_data.take(5)"
   ]
  },
  {
   "cell_type": "code",
   "execution_count": 11,
   "metadata": {},
   "outputs": [
    {
     "data": {
      "text/plain": [
       "[Row(id=1, red=0, blue=5, green=0, yellow=7, black=6, white=0, Total=18, orderid=1, count(orderid)=1, SOGS=66, SH=6.6000000000000005, Sales=72.6),\n",
       " Row(id=2, red=7, blue=0, green=7, yellow=9, black=3, white=7, Total=33, orderid=2, count(orderid)=3, SOGS=105, SH=10.0, Sales=115.0),\n",
       " Row(id=3, red=0, blue=0, green=0, yellow=2, black=8, white=2, Total=12, orderid=3, count(orderid)=1, SOGS=50, SH=5.0, Sales=55.0),\n",
       " Row(id=4, red=1, blue=4, green=9, yellow=7, black=1, white=0, Total=22, orderid=4, count(orderid)=2, SOGS=77, SH=7.7, Sales=84.7),\n",
       " Row(id=5, red=9, blue=4, green=6, yellow=0, black=6, white=5, Total=30, orderid=5, count(orderid)=2, SOGS=103, SH=10.0, Sales=113.0)]"
      ]
     },
     "execution_count": 11,
     "metadata": {},
     "output_type": "execute_result"
    }
   ],
   "source": [
    "from pyspark.sql.functions import least, lit\n",
    "\n",
    "# Calculate the order sales, the formula: Sale of goods (SOGS) + SH\n",
    "# SOGS = green * 4 + blue * 3 + black * 5 + yellow * 3 + red * 3 + white * 2\n",
    "# Ship&Handling = max(10, SOGS * 0.1)\n",
    "order_data = order_data.withColumn('SOGS', (\n",
    "    order_data.green * 4 + order_data.blue * 3 + order_data.black * 5 +\n",
    "    order_data.yellow * 3 + order_data.red * 3 + order_data.white * 2\n",
    "))\n",
    "order_data = order_data.withColumn('SH', least(order_data.SOGS * 0.1, lit(10.0)))\n",
    "order_data = order_data.withColumn('Sales', order_data.SOGS + order_data.SH)\n",
    "order_data.take(5)"
   ]
  },
  {
   "cell_type": "code",
   "execution_count": 12,
   "metadata": {},
   "outputs": [
    {
     "name": "stdout",
     "output_type": "stream",
     "text": [
      "#Profitable order: 121\n"
     ]
    },
    {
     "data": {
      "text/plain": [
       "[Row(id=1, red=0, blue=5, green=0, yellow=7, black=6, white=0, Total=18, orderid=1, count(orderid)=1, SOGS=66, SH=6.6000000000000005, Sales=72.6, COGS=33.0, Profit=12.999999999999993)]"
      ]
     },
     "execution_count": 12,
     "metadata": {},
     "output_type": "execute_result"
    }
   ],
   "source": [
    "# Calculate the order profit, the formula: Sales - COGS - 10 - round * 10 - SH\n",
    "# COGS = green * 2 + blue * 1.5 + black * 2.5 + yellow * 1.5 + red * 1.5 + white * 1\n",
    "order_data = order_data.withColumn('COGS', (\n",
    "    order_data.green * 2 + order_data.blue * 1.5 + order_data.black * 2.5 +\n",
    "    order_data.yellow * 1.5 + order_data.red * 1.5 + order_data.white * 1\n",
    "))\n",
    "order_data = order_data.withColumn('Profit', (\n",
    "    order_data.Sales - order_data.COGS - lit(10.0) -\n",
    "    order_data['count(orderid)'] * 10 - order_data.SH\n",
    "))\n",
    "print '#Profitable order:', order_data.filter(order_data.Profit > 0).count()\n",
    "order_data.take(1)"
   ]
  },
  {
   "cell_type": "code",
   "execution_count": 13,
   "metadata": {},
   "outputs": [
    {
     "data": {
      "text/plain": [
       "[Row(features=DenseVector([0.0, 5.0, 0.0, 7.0, 6.0, 0.0]), label=12.999999999999993)]"
      ]
     },
     "execution_count": 13,
     "metadata": {},
     "output_type": "execute_result"
    }
   ],
   "source": [
    "# Convert the data format to ['features', 'label'] for training\n",
    "# Use the amount of each class of items as features\n",
    "train = order_data.rdd.map(\n",
    "    lambda x: (Vectors.dense([x.red, x.blue, x.green, x.yellow, x.black, x.white]),\n",
    "               x.Profit)).toDF([\"features\", \"label\"])\n",
    "train.take(1)"
   ]
  },
  {
   "cell_type": "markdown",
   "metadata": {},
   "source": [
    "#### Result"
   ]
  },
  {
   "cell_type": "code",
   "execution_count": 14,
   "metadata": {},
   "outputs": [
    {
     "name": "stdout",
     "output_type": "stream",
     "text": [
      "Coefficients: [1.0819724973931808,1.0432614963676443,1.522006709857319,0.8665702225930318,2.1009491007340757,0.35094772489658954]\n",
      "Intercept: -17.3308954197\n",
      "numIterations: 11\n",
      "objectiveHistory: [0.49999999999999994, 0.39927416648742303, 0.09314159339213247, 0.09184384487708791, 0.09164518100254655, 0.09163437996705243, 0.09163371516895077, 0.09163370307698655, 0.09163370124424043, 0.09163370122571646, 0.09163370122494173]\n",
      "RMSE: 3.928364\n",
      "r2: 0.890853\n"
     ]
    }
   ],
   "source": [
    "lr = LinearRegression(maxIter=10, regParam=0.3, elasticNetParam=0.8)\n",
    "# Fit the model\n",
    "lrModel = lr.fit(train)\n",
    "\n",
    "# Print the coefficients and intercept for linear regression\n",
    "print(\"Coefficients: %s\" % str(lrModel.coefficients))\n",
    "print(\"Intercept: %s\" % str(lrModel.intercept))\n",
    "\n",
    "# Summarize the model over the training set and print out some metrics\n",
    "trainingSummary = lrModel.summary\n",
    "print(\"numIterations: %d\" % trainingSummary.totalIterations)\n",
    "print(\"objectiveHistory: %s\" % str(trainingSummary.objectiveHistory))\n",
    "# trainingSummary.residuals.show()\n",
    "print(\"RMSE: %f\" % trainingSummary.rootMeanSquaredError)\n",
    "print(\"r2: %f\" % trainingSummary.r2)"
   ]
  },
  {
   "cell_type": "markdown",
   "metadata": {},
   "source": [
    "#### Red with Profit"
   ]
  },
  {
   "cell_type": "code",
   "execution_count": 15,
   "metadata": {},
   "outputs": [],
   "source": [
    "X = train.rdd.map(lambda x: x.features[0]).collect()\n",
    "y = train.rdd.map(lambda x: x.label).collect()\n",
    "\n",
    "p = lrModel.transform(train).select('prediction').rdd.flatMap(list).collect()"
   ]
  },
  {
   "cell_type": "code",
   "execution_count": 16,
   "metadata": {},
   "outputs": [
    {
     "data": {
      "image/png": "[encoded data removed]",
      "text/plain": [
       "<Figure size 432x288 with 1 Axes>"
      ]
     },
     "metadata": {},
     "output_type": "display_data"
    }
   ],
   "source": [
    "plt.xlabel('Amount of Red in the order')\n",
    "plt.ylabel('Profit')\n",
    "plt.scatter(X, y, c='lightblue')\n",
    "# plt.plot(X, p, color='red', linewidth=2)\n",
    "plt.tight_layout()\n",
    "plt.show()"
   ]
  },
  {
   "cell_type": "markdown",
   "metadata": {},
   "source": [
    "## 3. order, robot with fulfilltime"
   ]
  },
  {
   "cell_type": "code",
   "execution_count": 17,
   "metadata": {},
   "outputs": [
    {
     "name": "stderr",
     "output_type": "stream",
     "text": [
      "/Users/changjian/Library/Python/2.7/lib/python/site-packages/ipykernel_launcher.py:63: SettingWithCopyWarning: \n",
      "A value is trying to be set on a copy of a slice from a DataFrame\n",
      "\n",
      "See the caveats in the documentation: http://pandas.pydata.org/pandas-docs/stable/indexing.html#indexing-view-versus-copy\n",
      "/Users/changjian/Library/Python/2.7/lib/python/site-packages/ipykernel_launcher.py:57: SettingWithCopyWarning: \n",
      "A value is trying to be set on a copy of a slice from a DataFrame\n",
      "\n",
      "See the caveats in the documentation: http://pandas.pydata.org/pandas-docs/stable/indexing.html#indexing-view-versus-copy\n",
      "/Users/changjian/Library/Python/2.7/lib/python/site-packages/ipykernel_launcher.py:60: SettingWithCopyWarning: \n",
      "A value is trying to be set on a copy of a slice from a DataFrame\n",
      "\n",
      "See the caveats in the documentation: http://pandas.pydata.org/pandas-docs/stable/indexing.html#indexing-view-versus-copy\n",
      "/Users/changjian/Library/Python/2.7/lib/python/site-packages/ipykernel_launcher.py:75: SettingWithCopyWarning: \n",
      "A value is trying to be set on a copy of a slice from a DataFrame\n",
      "\n",
      "See the caveats in the documentation: http://pandas.pydata.org/pandas-docs/stable/indexing.html#indexing-view-versus-copy\n",
      "/Users/changjian/Library/Python/2.7/lib/python/site-packages/ipykernel_launcher.py:69: SettingWithCopyWarning: \n",
      "A value is trying to be set on a copy of a slice from a DataFrame\n",
      "\n",
      "See the caveats in the documentation: http://pandas.pydata.org/pandas-docs/stable/indexing.html#indexing-view-versus-copy\n",
      "/Users/changjian/Library/Python/2.7/lib/python/site-packages/ipykernel_launcher.py:72: SettingWithCopyWarning: \n",
      "A value is trying to be set on a copy of a slice from a DataFrame\n",
      "\n",
      "See the caveats in the documentation: http://pandas.pydata.org/pandas-docs/stable/indexing.html#indexing-view-versus-copy\n",
      "/Users/changjian/Library/Python/2.7/lib/python/site-packages/ipykernel_launcher.py:94: SettingWithCopyWarning: \n",
      "A value is trying to be set on a copy of a slice from a DataFrame\n",
      "\n",
      "See the caveats in the documentation: http://pandas.pydata.org/pandas-docs/stable/indexing.html#indexing-view-versus-copy\n",
      "/Users/changjian/Library/Python/2.7/lib/python/site-packages/ipykernel_launcher.py:96: SettingWithCopyWarning: \n",
      "A value is trying to be set on a copy of a slice from a DataFrame\n",
      "\n",
      "See the caveats in the documentation: http://pandas.pydata.org/pandas-docs/stable/indexing.html#indexing-view-versus-copy\n"
     ]
    },
    {
     "data": {
      "text/html": [
       "<div>\n",
       "<style scoped>\n",
       "    .dataframe tbody tr th:only-of-type {\n",
       "        vertical-align: middle;\n",
       "    }\n",
       "\n",
       "    .dataframe tbody tr th {\n",
       "        vertical-align: top;\n",
       "    }\n",
       "\n",
       "    .dataframe thead th {\n",
       "        text-align: right;\n",
       "    }\n",
       "</style>\n",
       "<table border=\"1\" class=\"dataframe\">\n",
       "  <thead>\n",
       "    <tr style=\"text-align: right;\">\n",
       "      <th></th>\n",
       "      <th>id</th>\n",
       "      <th>customer</th>\n",
       "      <th>red</th>\n",
       "      <th>blue</th>\n",
       "      <th>green</th>\n",
       "      <th>yellow</th>\n",
       "      <th>black</th>\n",
       "      <th>white</th>\n",
       "      <th>pending</th>\n",
       "      <th>orderdate</th>\n",
       "      <th>tokendate</th>\n",
       "      <th>shipdate</th>\n",
       "      <th>shipped</th>\n",
       "      <th>transitDuration</th>\n",
       "      <th>fulfillDuration</th>\n",
       "      <th>amount</th>\n",
       "      <th>split</th>\n",
       "      <th>maintain4</th>\n",
       "      <th>maintain12</th>\n",
       "    </tr>\n",
       "  </thead>\n",
       "  <tbody>\n",
       "    <tr>\n",
       "      <th>0</th>\n",
       "      <td>1</td>\n",
       "      <td>Devon</td>\n",
       "      <td>0</td>\n",
       "      <td>5</td>\n",
       "      <td>0</td>\n",
       "      <td>7</td>\n",
       "      <td>6</td>\n",
       "      <td>0</td>\n",
       "      <td>0</td>\n",
       "      <td>2018-07-22 15:00:51</td>\n",
       "      <td>2018-07-22 15:01:10</td>\n",
       "      <td>2018-07-22 15:02:38</td>\n",
       "      <td>1</td>\n",
       "      <td>88.0</td>\n",
       "      <td>107.0</td>\n",
       "      <td>18</td>\n",
       "      <td>1</td>\n",
       "      <td>5.5</td>\n",
       "      <td>0.0</td>\n",
       "    </tr>\n",
       "    <tr>\n",
       "      <th>1</th>\n",
       "      <td>2</td>\n",
       "      <td>Erma</td>\n",
       "      <td>7</td>\n",
       "      <td>0</td>\n",
       "      <td>7</td>\n",
       "      <td>9</td>\n",
       "      <td>3</td>\n",
       "      <td>7</td>\n",
       "      <td>0</td>\n",
       "      <td>2018-07-22 15:01:02</td>\n",
       "      <td>2018-07-22 15:01:10</td>\n",
       "      <td>2018-07-22 15:04:37</td>\n",
       "      <td>1</td>\n",
       "      <td>207.0</td>\n",
       "      <td>215.0</td>\n",
       "      <td>26</td>\n",
       "      <td>3</td>\n",
       "      <td>5.5</td>\n",
       "      <td>0.0</td>\n",
       "    </tr>\n",
       "    <tr>\n",
       "      <th>2</th>\n",
       "      <td>3</td>\n",
       "      <td>Allen</td>\n",
       "      <td>0</td>\n",
       "      <td>0</td>\n",
       "      <td>0</td>\n",
       "      <td>2</td>\n",
       "      <td>8</td>\n",
       "      <td>2</td>\n",
       "      <td>0</td>\n",
       "      <td>2018-07-22 15:01:13</td>\n",
       "      <td>2018-07-22 15:03:25</td>\n",
       "      <td>2018-07-22 15:04:56</td>\n",
       "      <td>1</td>\n",
       "      <td>91.0</td>\n",
       "      <td>223.0</td>\n",
       "      <td>12</td>\n",
       "      <td>1</td>\n",
       "      <td>5.5</td>\n",
       "      <td>0.0</td>\n",
       "    </tr>\n",
       "  </tbody>\n",
       "</table>\n",
       "</div>"
      ],
      "text/plain": [
       "   id customer  red  blue  green  yellow  black  white  pending  \\\n",
       "0   1    Devon    0     5      0       7      6      0        0   \n",
       "1   2     Erma    7     0      7       9      3      7        0   \n",
       "2   3    Allen    0     0      0       2      8      2        0   \n",
       "\n",
       "            orderdate           tokendate            shipdate  shipped  \\\n",
       "0 2018-07-22 15:00:51 2018-07-22 15:01:10 2018-07-22 15:02:38        1   \n",
       "1 2018-07-22 15:01:02 2018-07-22 15:01:10 2018-07-22 15:04:37        1   \n",
       "2 2018-07-22 15:01:13 2018-07-22 15:03:25 2018-07-22 15:04:56        1   \n",
       "\n",
       "   transitDuration  fulfillDuration  amount  split  maintain4  maintain12  \n",
       "0             88.0            107.0      18      1        5.5         0.0  \n",
       "1            207.0            215.0      26      3        5.5         0.0  \n",
       "2             91.0            223.0      12      1        5.5         0.0  "
      ]
     },
     "execution_count": 17,
     "metadata": {},
     "output_type": "execute_result"
    }
   ],
   "source": [
    "from datetime import datetime\n",
    "import pandas as pd\n",
    "import numpy as np\n",
    "import matplotlib.pyplot as plt\n",
    "import visuals as vs\n",
    "%config InlineBackend.figure_format = 'retina'\n",
    "%matplotlib inline\n",
    "\n",
    "plt.style.use('fivethirtyeight')\n",
    "\n",
    "df_app = pd.read_csv('../data/exp3/new/ws_orderinfo_orders_app.csv', header=0)\n",
    "df_server = pd.read_csv('../data/exp3/new/ws_orderinfo_orders_server.csv', header=0)\n",
    "# df_server = df2[[\"OrderID\", \"orderdate\", \"tokendate\",\"shipdate\"]]\n",
    "df_round = pd.read_csv('../data/exp3/new/ws_orderinfo_orderinround.csv', header=0)\n",
    "df_car = pd.read_csv('../data/exp3/new/ws_orderinfo_carinfo.csv', header=0)\n",
    "\n",
    "# filtered_df = df[df['orderdate'].isnull()]\n",
    "df_server = df_server.dropna()\n",
    "df_server[\"orderdate\"] = df_server[\"orderdate\"].apply(lambda x: datetime.strptime(x, '%Y-%m-%d %H:%M:%S'))\n",
    "df_server[\"tokendate\"] = df_server[\"tokendate\"].apply(lambda x: datetime.strptime(x, '%Y-%m-%d %H:%M:%S'))\n",
    "df_server[\"shipdate\"] = df_server[\"shipdate\"].apply(lambda x: datetime.strptime(x, '%Y-%m-%d %H:%M:%S'))\n",
    "\n",
    "df_server[\"transitDuration\"] = (df_server[\"shipdate\"]-df_server[\"tokendate\"])/ np.timedelta64(1, 's')\n",
    "df_server[\"fulfillDuration\"] = (df_server[\"shipdate\"]-df_server[\"orderdate\"])/ np.timedelta64(1, 's')\n",
    "\n",
    "df_server[\"amount\"] = df_server[\"red\"]+df_server[\"blue\"]+df_server[\"yellow\"]+df_server[\"black\"]+df_server[\"white\"]\n",
    "\n",
    "countSplit = [];  # countSplit[0]: number of being split of order 1\n",
    "\n",
    "for k in xrange(1, len(df_server)+1):\n",
    "    cluster = [i for i in xrange(len(df_server)) if df_round[\"orderid\"][i]==k]\n",
    "    countSplit.append(len(cluster))\n",
    "    \n",
    "df_server[\"split\"] = df_server[\"id\"].apply(lambda id: countSplit[id-1])\n",
    "\n",
    "df_car[\"entermaintence\"] = df_car[\"entermaintence\"].apply(lambda x: datetime.strptime(x, '%Y-%m-%d %H:%M:%S'))\n",
    "df_car[\"exitmaintence\"] = df_car[\"exitmaintence\"].apply(lambda x: datetime.strptime(x, '%Y-%m-%d %H:%M:%S'))\n",
    "df_car[\"maintainDuration\"] = (df_car[\"exitmaintence\"]-df_car[\"entermaintence\"])/ np.timedelta64(1, 's')\n",
    "df_car = df_car[[\"roundid\",\"maintainDuration\"]]\n",
    "df_app = pd.merge(df_app, df_car, how='left', left_on=\"id\", right_on=\"roundid\")\n",
    "\n",
    "import numpy as np\n",
    "\n",
    "df_app.fillna(0)\n",
    "df_app.fillna(0)\n",
    "\n",
    "df_app_4= df_app.iloc[[i for i in xrange(len(df_app)) if df_app[\"carid\"][i]==4]][[\"id\",\"maintainDuration\"]]\n",
    "df_app_12= df_app.iloc[[i for i in xrange(len(df_app)) if df_app[\"carid\"][i]==12]][[\"id\",\"maintainDuration\"]]\n",
    "# df_app = df_app[[\"id\",\"maintainDuration\"]]\n",
    "df_round = pd.merge(df_round, df_app[[\"id\",\"carid\"]], how='left', left_on=\"roundid\", right_on=\"id\", suffixes = [\"\",\"\"])\n",
    "df_round = df_round[[\"roundid\",\"orderid\",\"carid\"]]\n",
    "\n",
    "time = 0\n",
    "count = 1\n",
    "for index, row in df_app_4.iterrows():\n",
    "    if np.isnan(row[\"maintainDuration\"]):\n",
    "        df_app_4[\"maintainDuration\"][index] = time / count\n",
    "    else:\n",
    "        time = time + row[\"maintainDuration\"]\n",
    "        df_app_4[\"maintainDuration\"][index] = time / count\n",
    "        count = count+1\n",
    "        \n",
    "    df_app[\"maintainDuration\"][int(row[\"id\"]-1)] = df_app_4[\"maintainDuration\"][index]\n",
    "    \n",
    "time = 0\n",
    "count = 1\n",
    "for index, row in df_app_12.iterrows():\n",
    "    if np.isnan(row[\"maintainDuration\"]):\n",
    "        df_app_12[\"maintainDuration\"][index] = time / count\n",
    "    else:\n",
    "        time = time + row[\"maintainDuration\"]\n",
    "        df_app_12[\"maintainDuration\"][index] = time / count\n",
    "        count = count+1\n",
    "        \n",
    "    df_app[\"maintainDuration\"][int(row[\"id\"]-1)] = df_app_12[\"maintainDuration\"][index]\n",
    "\n",
    "df_server[\"maintain4\"] = 0.0\n",
    "df_server[\"maintain12\"] = 0.0\n",
    "\n",
    "order2round = {}\n",
    "\n",
    "for i in xrange(len(df_round)):\n",
    "    if not order2round.has_key(int(df_round[\"orderid\"][i])-1):\n",
    "        order2round[int(df_round[\"orderid\"][i])-1] = []\n",
    "        \n",
    "    order2round[int(df_round[\"orderid\"][i])-1].append(int(df_round[\"roundid\"][i])-1)\n",
    "    \n",
    "for i in xrange(len(df_server)):\n",
    "    if not order2round.has_key(df_server[\"id\"][i]):\n",
    "        continue\n",
    "    rounds = order2round[df_server[\"id\"][i]]\n",
    "    for r in rounds:\n",
    "        if df_app[\"carid\"][r]==4:\n",
    "            df_server[\"maintain4\"][i] =  df_app[\"maintainDuration\"][r]\n",
    "        else:\n",
    "            df_server[\"maintain12\"][i] =  df_app[\"maintainDuration\"][r]\n",
    "df_server[:3]"
   ]
  },
  {
   "cell_type": "code",
   "execution_count": 18,
   "metadata": {},
   "outputs": [
    {
     "name": "stdout",
     "output_type": "stream",
     "text": [
      "DataFrame[id: bigint, customer: string, red: bigint, blue: bigint, green: bigint, yellow: bigint, black: bigint, white: bigint, pending: bigint, orderdate: timestamp, tokendate: timestamp, shipdate: timestamp, shipped: bigint, transitDuration: double, fulfillDuration: double, amount: bigint, split: bigint, maintain4: double, maintain12: double]\n"
     ]
    }
   ],
   "source": [
    "# Create spark dataframe\n",
    "data = sc.createDataFrame(df_server)\n",
    "print data"
   ]
  },
  {
   "cell_type": "code",
   "execution_count": 19,
   "metadata": {},
   "outputs": [
    {
     "data": {
      "text/plain": [
       "[Row(features=DenseVector([18.0, 1.0, 5.5, 0.0]), label=88.0),\n",
       " Row(features=DenseVector([26.0, 3.0, 5.5, 0.0]), label=207.0),\n",
       " Row(features=DenseVector([12.0, 1.0, 5.5, 0.0]), label=91.0),\n",
       " Row(features=DenseVector([13.0, 2.0, 5.5, 0.0]), label=153.0),\n",
       " Row(features=DenseVector([24.0, 2.0, 5.5, 0.0]), label=194.0)]"
      ]
     },
     "execution_count": 19,
     "metadata": {},
     "output_type": "execute_result"
    }
   ],
   "source": [
    "# Convert the data format to ['features', 'label'] for training\n",
    "# Use Total amount of items, num of rounds, avg time of maintenance\n",
    "# for each car as features\n",
    "train = data.rdd.map(lambda x: (Vectors.dense([x.amount, x.split, x.maintain4, x.maintain12]), x.transitDuration)).toDF([\"features\", \"label\"])\n",
    "train.take(5)"
   ]
  },
  {
   "cell_type": "markdown",
   "metadata": {},
   "source": [
    "#### Result"
   ]
  },
  {
   "cell_type": "code",
   "execution_count": 20,
   "metadata": {},
   "outputs": [
    {
     "name": "stdout",
     "output_type": "stream",
     "text": [
      "Coefficients: [3.6894799363617286,-5.904574349670316,-0.2543672405215657,2.611922489997159]\n",
      "Intercept: 101.419010042\n",
      "numIterations: 9\n",
      "objectiveHistory: [0.5, 0.4489091637933565, 0.35114238164820166, 0.3508894552090935, 0.3507823324225764, 0.3507767032107989, 0.3507747989705017, 0.3507747984365294, 0.35077479813797374]\n",
      "RMSE: 43.996606\n",
      "r2: 0.306046\n"
     ]
    }
   ],
   "source": [
    "lr = LinearRegression(maxIter=10, regParam=0.3, elasticNetParam=0.8)\n",
    "# Fit the model\n",
    "lrModel = lr.fit(train)\n",
    "\n",
    "# Print the coefficients and intercept for linear regression\n",
    "print(\"Coefficients: %s\" % str(lrModel.coefficients))\n",
    "print(\"Intercept: %s\" % str(lrModel.intercept))\n",
    "\n",
    "# Summarize the model over the training set and print out some metrics\n",
    "trainingSummary = lrModel.summary\n",
    "print(\"numIterations: %d\" % trainingSummary.totalIterations)\n",
    "print(\"objectiveHistory: %s\" % str(trainingSummary.objectiveHistory))\n",
    "# trainingSummary.residuals.show()\n",
    "print(\"RMSE: %f\" % trainingSummary.rootMeanSquaredError)\n",
    "print(\"r2: %f\" % trainingSummary.r2)"
   ]
  },
  {
   "cell_type": "code",
   "execution_count": null,
   "metadata": {},
   "outputs": [],
   "source": []
  }
 ],
 "metadata": {
  "kernelspec": {
   "display_name": "Python 2",
   "language": "python",
   "name": "python2"
  },
  "language_info": {
   "codemirror_mode": {
    "name": "ipython",
    "version": 2
   },
   "file_extension": ".py",
   "mimetype": "text/x-python",
   "name": "python",
   "nbconvert_exporter": "python",
   "pygments_lexer": "ipython2",
   "version": "2.7.10"
  }
 },
 "nbformat": 4,
 "nbformat_minor": 2
}
