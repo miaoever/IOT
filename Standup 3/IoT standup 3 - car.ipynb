{
 "cells": [
  {
   "cell_type": "code",
   "execution_count": 1,
   "metadata": {},
   "outputs": [],
   "source": [
    "import pandas as pd\n",
    "import matplotlib.pyplot as plt"
   ]
  },
  {
   "cell_type": "code",
   "execution_count": 2,
   "metadata": {},
   "outputs": [],
   "source": [
    "data = pd.read_csv(\"ws_orderinfo_orders_app.csv\")"
   ]
  },
  {
   "cell_type": "code",
   "execution_count": 3,
   "metadata": {},
   "outputs": [
    {
     "data": {
      "text/html": [
       "<div>\n",
       "<style scoped>\n",
       "    .dataframe tbody tr th:only-of-type {\n",
       "        vertical-align: middle;\n",
       "    }\n",
       "\n",
       "    .dataframe tbody tr th {\n",
       "        vertical-align: top;\n",
       "    }\n",
       "\n",
       "    .dataframe thead th {\n",
       "        text-align: right;\n",
       "    }\n",
       "</style>\n",
       "<table border=\"1\" class=\"dataframe\">\n",
       "  <thead>\n",
       "    <tr style=\"text-align: right;\">\n",
       "      <th></th>\n",
       "      <th>id</th>\n",
       "      <th>carid</th>\n",
       "      <th>red</th>\n",
       "      <th>blue</th>\n",
       "      <th>green</th>\n",
       "      <th>yellow</th>\n",
       "      <th>black</th>\n",
       "      <th>white</th>\n",
       "      <th>arriveAtReceiving</th>\n",
       "      <th>loadedDate</th>\n",
       "      <th>arriveAtShipping</th>\n",
       "      <th>unloadedDate</th>\n",
       "    </tr>\n",
       "  </thead>\n",
       "  <tbody>\n",
       "    <tr>\n",
       "      <th>0</th>\n",
       "      <td>1</td>\n",
       "      <td>4</td>\n",
       "      <td>0.0</td>\n",
       "      <td>3.0</td>\n",
       "      <td>7.0</td>\n",
       "      <td>8.0</td>\n",
       "      <td>6.0</td>\n",
       "      <td>0.0</td>\n",
       "      <td>6/18/18 16:07:49</td>\n",
       "      <td>6/18/18 16:09:59</td>\n",
       "      <td>6/18/18 16:10:25</td>\n",
       "      <td>6/18/18 16:11:00</td>\n",
       "    </tr>\n",
       "    <tr>\n",
       "      <th>1</th>\n",
       "      <td>2</td>\n",
       "      <td>12</td>\n",
       "      <td>9.0</td>\n",
       "      <td>2.0</td>\n",
       "      <td>5.0</td>\n",
       "      <td>0.0</td>\n",
       "      <td>8.0</td>\n",
       "      <td>0.0</td>\n",
       "      <td>6/18/18 16:10:06</td>\n",
       "      <td>6/18/18 16:11:07</td>\n",
       "      <td>6/18/18 16:12:09</td>\n",
       "      <td>6/18/18 16:12:56</td>\n",
       "    </tr>\n",
       "    <tr>\n",
       "      <th>2</th>\n",
       "      <td>3</td>\n",
       "      <td>4</td>\n",
       "      <td>NaN</td>\n",
       "      <td>NaN</td>\n",
       "      <td>NaN</td>\n",
       "      <td>NaN</td>\n",
       "      <td>NaN</td>\n",
       "      <td>NaN</td>\n",
       "      <td>6/18/18 16:12:00</td>\n",
       "      <td>NaN</td>\n",
       "      <td>NaN</td>\n",
       "      <td>NaN</td>\n",
       "    </tr>\n",
       "    <tr>\n",
       "      <th>3</th>\n",
       "      <td>4</td>\n",
       "      <td>4</td>\n",
       "      <td>10.0</td>\n",
       "      <td>1.0</td>\n",
       "      <td>0.0</td>\n",
       "      <td>1.0</td>\n",
       "      <td>2.0</td>\n",
       "      <td>10.0</td>\n",
       "      <td>6/18/18 16:12:08</td>\n",
       "      <td>6/18/18 16:12:59</td>\n",
       "      <td>6/18/18 16:14:00</td>\n",
       "      <td>6/18/18 16:14:39</td>\n",
       "    </tr>\n",
       "    <tr>\n",
       "      <th>4</th>\n",
       "      <td>5</td>\n",
       "      <td>12</td>\n",
       "      <td>NaN</td>\n",
       "      <td>NaN</td>\n",
       "      <td>NaN</td>\n",
       "      <td>NaN</td>\n",
       "      <td>NaN</td>\n",
       "      <td>NaN</td>\n",
       "      <td>6/18/18 16:13:53</td>\n",
       "      <td>NaN</td>\n",
       "      <td>NaN</td>\n",
       "      <td>NaN</td>\n",
       "    </tr>\n",
       "    <tr>\n",
       "      <th>5</th>\n",
       "      <td>6</td>\n",
       "      <td>12</td>\n",
       "      <td>1.0</td>\n",
       "      <td>5.0</td>\n",
       "      <td>6.0</td>\n",
       "      <td>8.0</td>\n",
       "      <td>0.0</td>\n",
       "      <td>4.0</td>\n",
       "      <td>6/18/18 16:14:01</td>\n",
       "      <td>6/18/18 16:14:46</td>\n",
       "      <td>6/18/18 16:15:33</td>\n",
       "      <td>6/18/18 16:16:30</td>\n",
       "    </tr>\n",
       "    <tr>\n",
       "      <th>6</th>\n",
       "      <td>7</td>\n",
       "      <td>4</td>\n",
       "      <td>NaN</td>\n",
       "      <td>NaN</td>\n",
       "      <td>NaN</td>\n",
       "      <td>NaN</td>\n",
       "      <td>NaN</td>\n",
       "      <td>NaN</td>\n",
       "      <td>6/18/18 16:15:27</td>\n",
       "      <td>NaN</td>\n",
       "      <td>NaN</td>\n",
       "      <td>NaN</td>\n",
       "    </tr>\n",
       "    <tr>\n",
       "      <th>7</th>\n",
       "      <td>8</td>\n",
       "      <td>4</td>\n",
       "      <td>0.0</td>\n",
       "      <td>8.0</td>\n",
       "      <td>3.0</td>\n",
       "      <td>0.0</td>\n",
       "      <td>9.0</td>\n",
       "      <td>4.0</td>\n",
       "      <td>6/18/18 16:15:32</td>\n",
       "      <td>6/18/18 16:16:26</td>\n",
       "      <td>6/18/18 16:16:47</td>\n",
       "      <td>6/18/18 16:17:26</td>\n",
       "    </tr>\n",
       "    <tr>\n",
       "      <th>8</th>\n",
       "      <td>9</td>\n",
       "      <td>12</td>\n",
       "      <td>5.0</td>\n",
       "      <td>3.0</td>\n",
       "      <td>4.0</td>\n",
       "      <td>9.0</td>\n",
       "      <td>1.0</td>\n",
       "      <td>2.0</td>\n",
       "      <td>6/18/18 16:16:45</td>\n",
       "      <td>6/18/18 16:17:37</td>\n",
       "      <td>6/18/18 16:17:52</td>\n",
       "      <td>6/18/18 16:18:37</td>\n",
       "    </tr>\n",
       "    <tr>\n",
       "      <th>9</th>\n",
       "      <td>10</td>\n",
       "      <td>4</td>\n",
       "      <td>6.0</td>\n",
       "      <td>2.0</td>\n",
       "      <td>0.0</td>\n",
       "      <td>0.0</td>\n",
       "      <td>8.0</td>\n",
       "      <td>8.0</td>\n",
       "      <td>6/18/18 16:17:48</td>\n",
       "      <td>6/18/18 16:18:41</td>\n",
       "      <td>6/18/18 16:18:52</td>\n",
       "      <td>6/18/18 16:19:23</td>\n",
       "    </tr>\n",
       "  </tbody>\n",
       "</table>\n",
       "</div>"
      ],
      "text/plain": [
       "   id  carid   red  blue  green  yellow  black  white arriveAtReceiving  \\\n",
       "0   1      4   0.0   3.0    7.0     8.0    6.0    0.0  6/18/18 16:07:49   \n",
       "1   2     12   9.0   2.0    5.0     0.0    8.0    0.0  6/18/18 16:10:06   \n",
       "2   3      4   NaN   NaN    NaN     NaN    NaN    NaN  6/18/18 16:12:00   \n",
       "3   4      4  10.0   1.0    0.0     1.0    2.0   10.0  6/18/18 16:12:08   \n",
       "4   5     12   NaN   NaN    NaN     NaN    NaN    NaN  6/18/18 16:13:53   \n",
       "5   6     12   1.0   5.0    6.0     8.0    0.0    4.0  6/18/18 16:14:01   \n",
       "6   7      4   NaN   NaN    NaN     NaN    NaN    NaN  6/18/18 16:15:27   \n",
       "7   8      4   0.0   8.0    3.0     0.0    9.0    4.0  6/18/18 16:15:32   \n",
       "8   9     12   5.0   3.0    4.0     9.0    1.0    2.0  6/18/18 16:16:45   \n",
       "9  10      4   6.0   2.0    0.0     0.0    8.0    8.0  6/18/18 16:17:48   \n",
       "\n",
       "         loadedDate  arriveAtShipping      unloadedDate  \n",
       "0  6/18/18 16:09:59  6/18/18 16:10:25  6/18/18 16:11:00  \n",
       "1  6/18/18 16:11:07  6/18/18 16:12:09  6/18/18 16:12:56  \n",
       "2               NaN               NaN               NaN  \n",
       "3  6/18/18 16:12:59  6/18/18 16:14:00  6/18/18 16:14:39  \n",
       "4               NaN               NaN               NaN  \n",
       "5  6/18/18 16:14:46  6/18/18 16:15:33  6/18/18 16:16:30  \n",
       "6               NaN               NaN               NaN  \n",
       "7  6/18/18 16:16:26  6/18/18 16:16:47  6/18/18 16:17:26  \n",
       "8  6/18/18 16:17:37  6/18/18 16:17:52  6/18/18 16:18:37  \n",
       "9  6/18/18 16:18:41  6/18/18 16:18:52  6/18/18 16:19:23  "
      ]
     },
     "execution_count": 3,
     "metadata": {},
     "output_type": "execute_result"
    }
   ],
   "source": [
    "data[:10]"
   ]
  },
  {
   "cell_type": "code",
   "execution_count": 4,
   "metadata": {},
   "outputs": [],
   "source": [
    "# We think the line with NaN is the situation that the car has encoutered a problem and the system has to enter the\n",
    "# maintenance mode. The time period between the NaN line and the following line is the time of maintenance.\n",
    "nanLines = data.index[data[\"red\"].isna()]"
   ]
  },
  {
   "cell_type": "code",
   "execution_count": 5,
   "metadata": {},
   "outputs": [
    {
     "name": "stdout",
     "output_type": "stream",
     "text": [
      "MultiIndex(levels=[[2, 4, 6, 17, 20, 30, 36, 41, 50, 53, 54], [3, 5, 7, 18, 21, 31, 37, 42, 51, 54, 55]],\n",
      "           labels=[[0, 1, 2, 3, 4, 5, 6, 7, 8, 9, 10], [0, 1, 2, 3, 4, 5, 6, 7, 8, 9, 10]])\n"
     ]
    }
   ],
   "source": [
    "# Get all the NaN lines and the line behind each\n",
    "nanLines = nanLines.map(lambda x: (x, x + 1))\n",
    "print nanLines"
   ]
  },
  {
   "cell_type": "code",
   "execution_count": 6,
   "metadata": {},
   "outputs": [
    {
     "name": "stdout",
     "output_type": "stream",
     "text": [
      "      Maintenance Time\n",
      "carid                 \n",
      "4             00:00:08\n",
      "12            00:00:08\n",
      "4             00:00:05\n",
      "4             00:00:06\n",
      "4             00:00:05\n",
      "12            00:00:07\n",
      "4             00:00:06\n",
      "4             00:00:05\n",
      "4             00:00:16\n",
      "4             00:00:18\n",
      "4             00:00:33\n"
     ]
    }
   ],
   "source": [
    "# The time period between \"arriveAtReceiving\" is the maintenance time.\n",
    "receivings = pd.to_datetime(data[\"arriveAtReceiving\"])\n",
    "periods = nanLines.map(lambda x: receivings[x[1]] - receivings[x[0]]).to_frame()\n",
    "periods.index = data[\"carid\"][nanLines.get_level_values(0)]\n",
    "periods.columns = [\"Maintenance Time\"]\n",
    "print periods"
   ]
  },
  {
   "cell_type": "code",
   "execution_count": 7,
   "metadata": {},
   "outputs": [
    {
     "name": "stdout",
     "output_type": "stream",
     "text": [
      "                  Frequency\n",
      "Maintenance Time           \n",
      "[0, 5)                    0\n",
      "[5, 10)                   8\n",
      "[10, 15)                  0\n",
      "[15, 20)                  2\n",
      "[20, 25)                  0\n",
      "[25, 30)                  0\n",
      "[30, 35)                  1\n"
     ]
    }
   ],
   "source": [
    "# For continuous variables, we have to group them into groups. Here, we set the group as\n",
    "# [0, 5), [5, 10), [10, 15), ..., [30, 35)\n",
    "time_ranges = map(lambda x: \"[%d, %d)\" % (x, x + 5), range(0, 35, 5))\n",
    "groups = periods[\"Maintenance Time\"].map(lambda x: time_ranges[x.seconds / 5])\n",
    "grouped = groups.to_frame().groupby(groups).size()\n",
    "frequency = grouped.to_frame().reindex(time_ranges, fill_value=0)\n",
    "frequency.columns = [\"Frequency\"]\n",
    "print frequency"
   ]
  },
  {
   "cell_type": "code",
   "execution_count": 8,
   "metadata": {},
   "outputs": [
    {
     "data": {
      "text/plain": [
       "<matplotlib.axes._subplots.AxesSubplot at 0x111c1e550>"
      ]
     },
     "execution_count": 8,
     "metadata": {},
     "output_type": "execute_result"
    },
    {
     "data": {
      "image/png": "[encoded data removed]",
      "text/plain": [
       "<Figure size 432x288 with 1 Axes>"
      ]
     },
     "metadata": {},
     "output_type": "display_data"
    }
   ],
   "source": [
    "frequency.plot.hist(density=True)"
   ]
  },
  {
   "cell_type": "code",
   "execution_count": null,
   "metadata": {},
   "outputs": [],
   "source": []
  }
 ],
 "metadata": {
  "kernelspec": {
   "display_name": "Python 2",
   "language": "python",
   "name": "python2"
  },
  "language_info": {
   "codemirror_mode": {
    "name": "ipython",
    "version": 2
   },
   "file_extension": ".py",
   "mimetype": "text/x-python",
   "name": "python",
   "nbconvert_exporter": "python",
   "pygments_lexer": "ipython2",
   "version": "2.7.10"
  }
 },
 "nbformat": 4,
 "nbformat_minor": 2
}
